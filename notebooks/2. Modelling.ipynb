{
 "cells": [
  {
   "cell_type": "markdown",
   "metadata": {},
   "source": [
    "# Machine learning german bank's credit scoring\n",
    "In this project, I will build a <b>machine learning model to predict the default probability of German Bank's customers and assign them credit scores.</b> It involves <b>supervised learning</b>, using a labeled training set, for <b>classification.</b> The <b>target</b> variable is set to <b>1</b> if the customer represents a <b>bad risk (interpreted as default)</b>, and <b>0</b> if the customer represents a <b>good risk (interpreted as not default).</b>\n",
    "\n",
    "I will use the following <b>pipeline:</b>\n",
    "\n",
    "<b>1. Define the business problem.</b><br>\n",
    "<b>2. Collect the data and get a general overview of it.</b><br>\n",
    "<b>3. Split the data into train and test sets.</b><br>\n",
    "<b>4. Explore the data (exploratory data analysis)</b><br>\n",
    "<b>5. Data cleaning and preprocessing.</b><br>\n",
    "<b>6. Model training, comparison, selection and tuning.</b><br>\n",
    "<b>7. Final production model testing and evaluation.</b><br>\n",
    "<b>8. Conclude and interpret the model results.</b><br>\n",
    "<b>9. Deploy.</b><br>\n",
    "\n",
    "\n",
    "In <b>this notebook</b>, I will perform <b>machine learning modelling, covering steps 5 to 8 of the pipeline above</b>. The main <b>objective</b> here is to <b>build a model that is able to differentiate well between customers who will default on loans and those who will not.</b> Thus, I will <b>focus on the ROC-AUC score.</b> Furthermore, I will approach these steps in more detail below, providing an overview of each step and explaining the rationale behind each decision."
   ]
  },
  {
   "cell_type": "markdown",
   "metadata": {},
   "source": [
    "### Importing the libraries"
   ]
  },
  {
   "cell_type": "code",
   "execution_count": 171,
   "metadata": {},
   "outputs": [],
   "source": [
    "# Data manipulation and visualization.\n",
    "import pandas as pd\n",
    "import numpy as np\n",
    "import matplotlib.pyplot as plt\n",
    "import seaborn as sns\n",
    "\n",
    "# Modelling\n",
    "from sklearn.model_selection import train_test_split\n",
    "from sklearn.pipeline import Pipeline\n",
    "from sklearn.compose import ColumnTransformer\n",
    "from sklearn.preprocessing import OrdinalEncoder, StandardScaler\n",
    "from category_encoders import TargetEncoder\n",
    "from sklearn.impute import SimpleImputer\n",
    "from sklearn.linear_model import LogisticRegression\n",
    "from sklearn.svm import LinearSVC, SVC\n",
    "from sklearn.neighbors import KNeighborsClassifier\n",
    "from sklearn.ensemble import RandomForestClassifier\n",
    "from xgboost import XGBClassifier\n",
    "from skopt import BayesSearchCV\n",
    "from skopt.space import Real, Categorical, Integer\n",
    "\n",
    "# Fixing bayesian search error.\n",
    "np.int = int\n",
    "\n",
    "# Filter warnings.\n",
    "import warnings\n",
    "warnings.filterwarnings('ignore')\n",
    "\n",
    "# Utils\n",
    "from notebooks.modelling_utils import *"
   ]
  },
  {
   "cell_type": "markdown",
   "metadata": {},
   "source": [
    "### Reading the dataset"
   ]
  },
  {
   "cell_type": "code",
   "execution_count": 3,
   "metadata": {},
   "outputs": [],
   "source": [
    "df = pd.read_csv('data/german_credit_data.csv')\n",
    "# Dropping irrelevant column.\n",
    "df.drop(columns=['Unnamed: 0'], inplace=True)"
   ]
  },
  {
   "cell_type": "code",
   "execution_count": 4,
   "metadata": {},
   "outputs": [
    {
     "data": {
      "text/html": [
       "<div>\n",
       "<style scoped>\n",
       "    .dataframe tbody tr th:only-of-type {\n",
       "        vertical-align: middle;\n",
       "    }\n",
       "\n",
       "    .dataframe tbody tr th {\n",
       "        vertical-align: top;\n",
       "    }\n",
       "\n",
       "    .dataframe thead th {\n",
       "        text-align: right;\n",
       "    }\n",
       "</style>\n",
       "<table border=\"1\" class=\"dataframe\">\n",
       "  <thead>\n",
       "    <tr style=\"text-align: right;\">\n",
       "      <th></th>\n",
       "      <th>Age</th>\n",
       "      <th>Sex</th>\n",
       "      <th>Job</th>\n",
       "      <th>Housing</th>\n",
       "      <th>Saving accounts</th>\n",
       "      <th>Checking account</th>\n",
       "      <th>Credit amount</th>\n",
       "      <th>Duration</th>\n",
       "      <th>Purpose</th>\n",
       "      <th>Risk</th>\n",
       "    </tr>\n",
       "  </thead>\n",
       "  <tbody>\n",
       "    <tr>\n",
       "      <th>0</th>\n",
       "      <td>67</td>\n",
       "      <td>male</td>\n",
       "      <td>2</td>\n",
       "      <td>own</td>\n",
       "      <td>NaN</td>\n",
       "      <td>little</td>\n",
       "      <td>1169</td>\n",
       "      <td>6</td>\n",
       "      <td>radio/TV</td>\n",
       "      <td>good</td>\n",
       "    </tr>\n",
       "    <tr>\n",
       "      <th>1</th>\n",
       "      <td>22</td>\n",
       "      <td>female</td>\n",
       "      <td>2</td>\n",
       "      <td>own</td>\n",
       "      <td>little</td>\n",
       "      <td>moderate</td>\n",
       "      <td>5951</td>\n",
       "      <td>48</td>\n",
       "      <td>radio/TV</td>\n",
       "      <td>bad</td>\n",
       "    </tr>\n",
       "    <tr>\n",
       "      <th>2</th>\n",
       "      <td>49</td>\n",
       "      <td>male</td>\n",
       "      <td>1</td>\n",
       "      <td>own</td>\n",
       "      <td>little</td>\n",
       "      <td>NaN</td>\n",
       "      <td>2096</td>\n",
       "      <td>12</td>\n",
       "      <td>education</td>\n",
       "      <td>good</td>\n",
       "    </tr>\n",
       "    <tr>\n",
       "      <th>3</th>\n",
       "      <td>45</td>\n",
       "      <td>male</td>\n",
       "      <td>2</td>\n",
       "      <td>free</td>\n",
       "      <td>little</td>\n",
       "      <td>little</td>\n",
       "      <td>7882</td>\n",
       "      <td>42</td>\n",
       "      <td>furniture/equipment</td>\n",
       "      <td>good</td>\n",
       "    </tr>\n",
       "    <tr>\n",
       "      <th>4</th>\n",
       "      <td>53</td>\n",
       "      <td>male</td>\n",
       "      <td>2</td>\n",
       "      <td>free</td>\n",
       "      <td>little</td>\n",
       "      <td>little</td>\n",
       "      <td>4870</td>\n",
       "      <td>24</td>\n",
       "      <td>car</td>\n",
       "      <td>bad</td>\n",
       "    </tr>\n",
       "  </tbody>\n",
       "</table>\n",
       "</div>"
      ],
      "text/plain": [
       "   Age     Sex  Job Housing Saving accounts Checking account  Credit amount   \n",
       "0   67    male    2     own             NaN           little           1169  \\\n",
       "1   22  female    2     own          little         moderate           5951   \n",
       "2   49    male    1     own          little              NaN           2096   \n",
       "3   45    male    2    free          little           little           7882   \n",
       "4   53    male    2    free          little           little           4870   \n",
       "\n",
       "   Duration              Purpose  Risk  \n",
       "0         6             radio/TV  good  \n",
       "1        48             radio/TV   bad  \n",
       "2        12            education  good  \n",
       "3        42  furniture/equipment  good  \n",
       "4        24                  car   bad  "
      ]
     },
     "execution_count": 4,
     "metadata": {},
     "output_type": "execute_result"
    }
   ],
   "source": [
    "df.head()"
   ]
  },
  {
   "cell_type": "markdown",
   "metadata": {},
   "source": [
    "I will rename the columns in order to turn data manipulation easier. The target will be renamed as 'Default' for interpretation purposes."
   ]
  },
  {
   "cell_type": "code",
   "execution_count": 5,
   "metadata": {},
   "outputs": [],
   "source": [
    "df.columns = [x.lower().replace(' ', '_') for x in df.columns]\n",
    "df.rename(columns={'risk': 'default'}, inplace=True)"
   ]
  },
  {
   "cell_type": "markdown",
   "metadata": {},
   "source": [
    "Target (default) and sex can be expressed as binary features. I will label bad risk as 1 and good risk as 0 because the main focus will be in accurately predicting potential defaulters. Moreover, I will label male as 1 and female as 0."
   ]
  },
  {
   "cell_type": "code",
   "execution_count": 6,
   "metadata": {},
   "outputs": [],
   "source": [
    "df['default'] = df['default'].map({'bad': 1, 'good': 0})\n",
    "df['sex'] = df['sex'].map({'male': 1, 'female': 0})"
   ]
  },
  {
   "cell_type": "markdown",
   "metadata": {},
   "source": [
    "### Split the data into train and test sets\n",
    "- First of all, I will split the data into train and test sets.\n",
    "- Test set is supposed to be data the model has never seen before.\n",
    "- This split will avoid data leakage, which occurs when information from the test set or future data inadvertently leaks into the training process, leading to over-optimistic performance estimate, compromising the model's ability to generalize to new, unseen data.\n",
    "- A good practice to protect the model against data leakage is perform fit_transform on training data and just transform on test data when applying preprocessing steps after the split.\n",
    "- I will specify stratify=y so that the train_test_split function ensures that the splitting process maintains the same percentage of each target class in both the training and testing sets. This is particularly useful when dealing with imbalanced datasets, which is the case, as there are more defaulters."
   ]
  },
  {
   "cell_type": "code",
   "execution_count": 7,
   "metadata": {},
   "outputs": [],
   "source": [
    "X = df.drop(columns=['default'])\n",
    "y = df['default'].copy()\n",
    "\n",
    "X_train, X_test, y_train, y_test = train_test_split(X, y, test_size=0.2, stratify=y, random_state=42)"
   ]
  },
  {
   "cell_type": "code",
   "execution_count": 8,
   "metadata": {},
   "outputs": [
    {
     "name": "stdout",
     "output_type": "stream",
     "text": [
      "Train predictor dataset shape: (800, 9).\n",
      "Train target dataset shape: (800,).\n",
      "Test predictor dataset shape: (200, 9).\n",
      "Test target dataset shape: (200,).\n"
     ]
    }
   ],
   "source": [
    "print(f'Train predictor dataset shape: {X_train.shape}.')\n",
    "print(f'Train target dataset shape: {y_train.shape}.')\n",
    "print(f'Test predictor dataset shape: {X_test.shape}.')\n",
    "print(f'Test target dataset shape: {y_test.shape}.')"
   ]
  },
  {
   "cell_type": "code",
   "execution_count": 9,
   "metadata": {},
   "outputs": [
    {
     "name": "stdout",
     "output_type": "stream",
     "text": [
      "Train target classes proportions: \n",
      "default\n",
      "0    0.7\n",
      "1    0.3\n",
      "Name: proportion, dtype: float64\n",
      "\n",
      "Test target classes proportions:\n",
      "default\n",
      "0    0.7\n",
      "1    0.3\n",
      "Name: proportion, dtype: float64\n"
     ]
    }
   ],
   "source": [
    "print(f'Train target classes proportions: ')\n",
    "print(y_train.value_counts(normalize=True))\n",
    "print(f'\\nTest target classes proportions:')\n",
    "print(y_test.value_counts(normalize=True))"
   ]
  },
  {
   "cell_type": "markdown",
   "metadata": {},
   "source": [
    "The train-test-split was succesfull and each target class proportion was preserved in both sets."
   ]
  },
  {
   "cell_type": "markdown",
   "metadata": {},
   "source": [
    "# 5. Data cleaning and preprocessing\n",
    "In order to fit machine learning algorithms, it is necessary to apply some transformations to the data.\n",
    "\n",
    "- <b>Impute missing values:</b> There are some missing values in saving accounts and checking account. I will replace them with mode. Dropping the null values is not a good choice because I have a little amount of data (just 1000 rows).<br>\n",
    "- <b>Outliers:</b> In the eda step, I investigated the outliers and saw that they don't represent inconsistent information like measurement errors. Thus, considering this and the fact that I have a little amount of data, I will not drop or treat any.<br>\n",
    "- In order to train tree-based algorithms, it is not necessary to scale the data. However, as I intend to test a different algorithms, I will apply standard scaler on numerical and categorical features (after encoding). By doing this, it will be possible to compare all models at once.\n",
    "- <b>Numerical features:</b> Some algorithms are sensitive to feature scaling because they use distance calculations or optimizations like gradient descent for being trained, which are affected by scale. Thus, I will apply StandardScaler on numeric attributes.<br>\n",
    "- <b>Categorical features:</b> Machine learning algorithms make mathematical calculations, so it's necessary to convert the categoric attributes to numeric by applying encoding techniques. Saving accounts and checking account present ordinal relationships while purpose has a higher cardinality. My hypothesis is that ordinal encoding in saving and checking accounts and target encoding in purpose and housing will perform better than one-hot encoding all the features. As a good data scientist, I will create two preprocessors and asses wheter my hypothesis is true by comparing the models performances on stratified k-fold cross validation by when trained with each preprocessing approach."
   ]
  },
  {
   "cell_type": "code",
   "execution_count": 10,
   "metadata": {},
   "outputs": [
    {
     "data": {
      "text/html": [
       "<div>\n",
       "<style scoped>\n",
       "    .dataframe tbody tr th:only-of-type {\n",
       "        vertical-align: middle;\n",
       "    }\n",
       "\n",
       "    .dataframe tbody tr th {\n",
       "        vertical-align: top;\n",
       "    }\n",
       "\n",
       "    .dataframe thead th {\n",
       "        text-align: right;\n",
       "    }\n",
       "</style>\n",
       "<table border=\"1\" class=\"dataframe\">\n",
       "  <thead>\n",
       "    <tr style=\"text-align: right;\">\n",
       "      <th></th>\n",
       "      <th>age</th>\n",
       "      <th>sex</th>\n",
       "      <th>job</th>\n",
       "      <th>housing</th>\n",
       "      <th>saving_accounts</th>\n",
       "      <th>checking_account</th>\n",
       "      <th>credit_amount</th>\n",
       "      <th>duration</th>\n",
       "      <th>purpose</th>\n",
       "    </tr>\n",
       "  </thead>\n",
       "  <tbody>\n",
       "    <tr>\n",
       "      <th>828</th>\n",
       "      <td>47</td>\n",
       "      <td>1</td>\n",
       "      <td>2</td>\n",
       "      <td>free</td>\n",
       "      <td>NaN</td>\n",
       "      <td>little</td>\n",
       "      <td>8335</td>\n",
       "      <td>36</td>\n",
       "      <td>car</td>\n",
       "    </tr>\n",
       "    <tr>\n",
       "      <th>997</th>\n",
       "      <td>38</td>\n",
       "      <td>1</td>\n",
       "      <td>2</td>\n",
       "      <td>own</td>\n",
       "      <td>little</td>\n",
       "      <td>NaN</td>\n",
       "      <td>804</td>\n",
       "      <td>12</td>\n",
       "      <td>radio/TV</td>\n",
       "    </tr>\n",
       "    <tr>\n",
       "      <th>148</th>\n",
       "      <td>28</td>\n",
       "      <td>1</td>\n",
       "      <td>2</td>\n",
       "      <td>own</td>\n",
       "      <td>little</td>\n",
       "      <td>little</td>\n",
       "      <td>5371</td>\n",
       "      <td>36</td>\n",
       "      <td>furniture/equipment</td>\n",
       "    </tr>\n",
       "    <tr>\n",
       "      <th>735</th>\n",
       "      <td>29</td>\n",
       "      <td>0</td>\n",
       "      <td>0</td>\n",
       "      <td>own</td>\n",
       "      <td>NaN</td>\n",
       "      <td>moderate</td>\n",
       "      <td>3990</td>\n",
       "      <td>36</td>\n",
       "      <td>domestic appliances</td>\n",
       "    </tr>\n",
       "    <tr>\n",
       "      <th>130</th>\n",
       "      <td>24</td>\n",
       "      <td>0</td>\n",
       "      <td>2</td>\n",
       "      <td>own</td>\n",
       "      <td>NaN</td>\n",
       "      <td>moderate</td>\n",
       "      <td>8487</td>\n",
       "      <td>48</td>\n",
       "      <td>car</td>\n",
       "    </tr>\n",
       "  </tbody>\n",
       "</table>\n",
       "</div>"
      ],
      "text/plain": [
       "     age  sex  job housing saving_accounts checking_account  credit_amount   \n",
       "828   47    1    2    free             NaN           little           8335  \\\n",
       "997   38    1    2     own          little              NaN            804   \n",
       "148   28    1    2     own          little           little           5371   \n",
       "735   29    0    0     own             NaN         moderate           3990   \n",
       "130   24    0    2     own             NaN         moderate           8487   \n",
       "\n",
       "     duration              purpose  \n",
       "828        36                  car  \n",
       "997        12             radio/TV  \n",
       "148        36  furniture/equipment  \n",
       "735        36  domestic appliances  \n",
       "130        48                  car  "
      ]
     },
     "execution_count": 10,
     "metadata": {},
     "output_type": "execute_result"
    }
   ],
   "source": [
    "X_train.head()"
   ]
  },
  {
   "cell_type": "markdown",
   "metadata": {},
   "source": [
    "Checking missing values."
   ]
  },
  {
   "cell_type": "code",
   "execution_count": 11,
   "metadata": {},
   "outputs": [
    {
     "data": {
      "text/plain": [
       "age                   0\n",
       "sex                   0\n",
       "job                   0\n",
       "housing               0\n",
       "saving_accounts     144\n",
       "checking_account    316\n",
       "credit_amount         0\n",
       "duration              0\n",
       "purpose               0\n",
       "dtype: int64"
      ]
     },
     "execution_count": 11,
     "metadata": {},
     "output_type": "execute_result"
    }
   ],
   "source": [
    "X_train.isna().sum()"
   ]
  },
  {
   "cell_type": "markdown",
   "metadata": {},
   "source": [
    "Checking numerical features."
   ]
  },
  {
   "cell_type": "code",
   "execution_count": 12,
   "metadata": {},
   "outputs": [
    {
     "name": "stdout",
     "output_type": "stream",
     "text": [
      "There are 5 numerical features. They are: ['age', 'sex', 'job', 'credit_amount', 'duration']\n"
     ]
    }
   ],
   "source": [
    "numerical_features = X_train.select_dtypes('number').columns.to_list()\n",
    "print(f'There are {len(numerical_features)} numerical features. They are: {numerical_features}')"
   ]
  },
  {
   "cell_type": "markdown",
   "metadata": {},
   "source": [
    "Checking categorical features cardinality and unique values."
   ]
  },
  {
   "cell_type": "code",
   "execution_count": 13,
   "metadata": {},
   "outputs": [
    {
     "name": "stdout",
     "output_type": "stream",
     "text": [
      "There are 4 categorical features. They are: ['housing', 'saving_accounts', 'checking_account', 'purpose']\n",
      "\n",
      "housing\n",
      "Number of categories: 3. They are:\n",
      "['free' 'own' 'rent']\n",
      "\n",
      "saving_accounts\n",
      "Number of categories: 4. They are:\n",
      "[nan 'little' 'moderate' 'rich' 'quite rich']\n",
      "\n",
      "checking_account\n",
      "Number of categories: 3. They are:\n",
      "['little' nan 'moderate' 'rich']\n",
      "\n",
      "purpose\n",
      "Number of categories: 8. They are:\n",
      "['car' 'radio/TV' 'furniture/equipment' 'domestic appliances' 'education'\n",
      " 'repairs' 'vacation/others' 'business']\n",
      "\n"
     ]
    }
   ],
   "source": [
    "categorical_features = X_train.select_dtypes('object').columns.to_list()\n",
    "\n",
    "print(f'There are {len(categorical_features)} categorical features. They are: {categorical_features}')\n",
    "print()\n",
    "\n",
    "for feature in categorical_features:\n",
    "    print(feature)\n",
    "    print(f'Number of categories: {X_train[feature].nunique()}. They are:')\n",
    "    print(X_train[feature].unique())\n",
    "    print()"
   ]
  },
  {
   "cell_type": "markdown",
   "metadata": {},
   "source": [
    "I will build the preprocessors below. As I have mentioned above, once I intend to test different algorithms at once, I will scale all the features excepting one-hot encoded ones (it is not necessary)."
   ]
  },
  {
   "cell_type": "code",
   "execution_count": 39,
   "metadata": {},
   "outputs": [],
   "source": [
    "target_encoder_features = ['purpose', 'housing']\n",
    "ordinal_encoder_features = ['saving_accounts', 'checking_account']"
   ]
  },
  {
   "cell_type": "markdown",
   "metadata": {},
   "source": [
    "Preprocessor 1: Applying ordinal encoding to saving and checking accounts (after imputing missing values with mode) and target encoding to purpose and housing. Moreover, I will apply standard scaling to all the features."
   ]
  },
  {
   "cell_type": "code",
   "execution_count": 60,
   "metadata": {},
   "outputs": [],
   "source": [
    "ordinal_pipeline = Pipeline(\n",
    "    steps=[\n",
    "        ('imputer', SimpleImputer(strategy='most_frequent')), \n",
    "        ('ordinal_encoder', OrdinalEncoder()),\n",
    "        ('std_scaler', StandardScaler())\n",
    "        ]\n",
    "        )\n",
    "\n",
    "target_pipeline = Pipeline(\n",
    "    steps=[\n",
    "        ('target_encoder',TargetEncoder(cols=target_encoder_features)), \n",
    "        ('std_scaler', StandardScaler())\n",
    "        ]\n",
    "        )\n",
    "\n",
    "preprocessor_ordinal_target = ColumnTransformer(\n",
    "    transformers=[\n",
    "        ('ordinal_encoder', ordinal_pipeline, ordinal_encoder_features),\n",
    "        ('target_encoder', target_pipeline, target_encoder_features),\n",
    "        ('std_scaler', StandardScaler(), numerical_features)\n",
    "        ], remainder='passthrough'\n",
    "        )"
   ]
  },
  {
   "cell_type": "markdown",
   "metadata": {},
   "source": [
    "Preprocessor 2: Applying one-hot encoding to all the categorical features and scaling the numerical features."
   ]
  },
  {
   "cell_type": "code",
   "execution_count": 63,
   "metadata": {},
   "outputs": [],
   "source": [
    "preprocessor_onehot = ColumnTransformer([\n",
    "    ('one-hot_encoder', OneHotEncoder(), categorical_features),\n",
    "    ('std_scaler', StandardScaler(), numerical_features)\n",
    "], remainder='passthrough')"
   ]
  },
  {
   "cell_type": "markdown",
   "metadata": {},
   "source": [
    "Preprocessing the train predictor dataset with both preprocessors."
   ]
  },
  {
   "cell_type": "code",
   "execution_count": 61,
   "metadata": {},
   "outputs": [
    {
     "data": {
      "text/plain": [
       "(800, 9)"
      ]
     },
     "execution_count": 61,
     "metadata": {},
     "output_type": "execute_result"
    }
   ],
   "source": [
    "X_train_prepared_ordinal_target = preprocessor_ordinal_target.fit_transform(X_train, y_train)\n",
    "X_train_prepared_ordinal_target.shape"
   ]
  },
  {
   "cell_type": "code",
   "execution_count": 64,
   "metadata": {},
   "outputs": [
    {
     "data": {
      "text/plain": [
       "(800, 25)"
      ]
     },
     "execution_count": 64,
     "metadata": {},
     "output_type": "execute_result"
    }
   ],
   "source": [
    "X_train_prepared_onehot = preprocessor_onehot.fit_transform(X_train, y_train)\n",
    "X_train_prepared_onehot.shape"
   ]
  },
  {
   "cell_type": "markdown",
   "metadata": {},
   "source": [
    "Look how one-hot encoding the categorical features increased dimensionality. In theory, this will favor overfitting since we have a little amount of data and thus present a worse performance. Let's see it below with cross validation."
   ]
  },
  {
   "cell_type": "markdown",
   "metadata": {},
   "source": [
    "# 6. Model training, comparison, selection and tuning\n",
    "- In this step, I intend to compare different models performances. In order to achieve this, I will use stratified k-fold cross validation to train each one of them and evaluate their ROC-AUC score. Accuracy is not a good metric because the target is imbalanced. Moreover, stratified k-fold cross validation will maintain the target proportion on each fold, dealing with the imbalanced target as well.\n",
    "- The ROC-AUC score is the metric of focus when building a credit scoring model because it effectively measures the model's ability to discriminate between defaulters and non-defaulters, providing a comprehensive evaluation of its predictive power.\n",
    "- <b>K-fold cross-validation</b> is a technique used in machine learning to assess the performance of a model. It involves dividing the dataset into K subsets, using K-1 for training and one for testing iteratively. This helps in estimating a model's generalization ability by reducing the risk of overfitting and providing more reliable performance metrics.<br>\n",
    "- My objective here is to select a best model to go for hyperparameter tuning. In order to get this best model, I will evaluate the highest roc-auc average validation scores and look at the bias-variance trade-off.\n",
    "- After selecting a model, I will tune its hyperparameters."
   ]
  },
  {
   "cell_type": "markdown",
   "metadata": {},
   "source": [
    "Training the models and comparing their performances (roc-auc score) with stratified k-fold cross validation in order to choose one of them for hyperparameter tuning. "
   ]
  },
  {
   "cell_type": "code",
   "execution_count": 17,
   "metadata": {},
   "outputs": [],
   "source": [
    "models = {\n",
    "    'Logistic Regression': LogisticRegression(),\n",
    "    'Linear SVM': LinearSVC(),\n",
    "    'SVM': SVC(),\n",
    "    'K-Nearest Neighbors': KNeighborsClassifier(),\n",
    "    'Random Forest': RandomForestClassifier(),\n",
    "    'XGBoost': XGBClassifier()\n",
    "}"
   ]
  },
  {
   "cell_type": "markdown",
   "metadata": {},
   "source": [
    "Stratified k-fold cross validation models performances with train predictor dataset preprocessed with the preprocessor_ordinal_target."
   ]
  },
  {
   "cell_type": "code",
   "execution_count": 51,
   "metadata": {},
   "outputs": [
    {
     "name": "stdout",
     "output_type": "stream",
     "text": [
      "Logistic Regression results: \n",
      "--------------------------------------------------\n",
      "Training score: 0.5604166666666667\n",
      "Average validation score: 0.6814732142857143\n",
      "Standard deviation: 0.039292407325782576\n",
      "Training time: 0.00707 seconds\n",
      "\n",
      "Linear SVM results: \n",
      "--------------------------------------------------\n",
      "Training score: 0.5502976190476191\n",
      "Average validation score: 0.68125\n",
      "Standard deviation: 0.0388376821302785\n",
      "Training time: 0.03407 seconds\n",
      "\n",
      "SVM results: \n",
      "--------------------------------------------------\n",
      "Training score: 0.5848214285714286\n",
      "Average validation score: 0.6314360119047618\n",
      "Standard deviation: 0.034016608903587084\n",
      "Training time: 0.01673 seconds\n",
      "\n",
      "K-Nearest Neighbors results: \n",
      "--------------------------------------------------\n",
      "Training score: 0.6693452380952382\n",
      "Average validation score: 0.6074032738095239\n",
      "Standard deviation: 0.0334894481944407\n",
      "Training time: 0.00196 seconds\n",
      "\n",
      "Random Forest results: \n",
      "--------------------------------------------------\n",
      "Training score: 1.0\n",
      "Average validation score: 0.6546875\n",
      "Standard deviation: 0.050610738992349164\n",
      "Training time: 0.24678 seconds\n",
      "\n",
      "XGBoost results: \n",
      "--------------------------------------------------\n",
      "Training score: 1.0\n",
      "Average validation score: 0.6348586309523809\n",
      "Standard deviation: 0.038211028918481986\n",
      "Training time: 0.08783 seconds\n",
      "\n",
      "Plotting the results: \n"
     ]
    },
    {
     "data": {
      "image/png": "[encoded data removed]",
      "text/plain": [
       "<Figure size 1500x600 with 1 Axes>"
      ]
     },
     "metadata": {},
     "output_type": "display_data"
    }
   ],
   "source": [
    "eval_df1 = evaluate_models_cv(models=models, X_train=X_train_prepared1, y_train=y_train)"
   ]
  },
  {
   "cell_type": "code",
   "execution_count": 52,
   "metadata": {},
   "outputs": [
    {
     "data": {
      "text/html": [
       "<div>\n",
       "<style scoped>\n",
       "    .dataframe tbody tr th:only-of-type {\n",
       "        vertical-align: middle;\n",
       "    }\n",
       "\n",
       "    .dataframe tbody tr th {\n",
       "        vertical-align: top;\n",
       "    }\n",
       "\n",
       "    .dataframe thead th {\n",
       "        text-align: right;\n",
       "    }\n",
       "</style>\n",
       "<table border=\"1\" class=\"dataframe\">\n",
       "  <thead>\n",
       "    <tr style=\"text-align: right;\">\n",
       "      <th></th>\n",
       "      <th>Model</th>\n",
       "      <th>Average Val Score</th>\n",
       "      <th>Train Score</th>\n",
       "    </tr>\n",
       "  </thead>\n",
       "  <tbody>\n",
       "    <tr>\n",
       "      <th>0</th>\n",
       "      <td>Logistic Regression</td>\n",
       "      <td>0.681473</td>\n",
       "      <td>0.560417</td>\n",
       "    </tr>\n",
       "    <tr>\n",
       "      <th>1</th>\n",
       "      <td>Linear SVM</td>\n",
       "      <td>0.681250</td>\n",
       "      <td>0.550298</td>\n",
       "    </tr>\n",
       "    <tr>\n",
       "      <th>2</th>\n",
       "      <td>Random Forest</td>\n",
       "      <td>0.654687</td>\n",
       "      <td>1.000000</td>\n",
       "    </tr>\n",
       "    <tr>\n",
       "      <th>3</th>\n",
       "      <td>XGBoost</td>\n",
       "      <td>0.634859</td>\n",
       "      <td>1.000000</td>\n",
       "    </tr>\n",
       "    <tr>\n",
       "      <th>4</th>\n",
       "      <td>SVM</td>\n",
       "      <td>0.631436</td>\n",
       "      <td>0.584821</td>\n",
       "    </tr>\n",
       "    <tr>\n",
       "      <th>5</th>\n",
       "      <td>K-Nearest Neighbors</td>\n",
       "      <td>0.607403</td>\n",
       "      <td>0.669345</td>\n",
       "    </tr>\n",
       "  </tbody>\n",
       "</table>\n",
       "</div>"
      ],
      "text/plain": [
       "                 Model  Average Val Score  Train Score\n",
       "0  Logistic Regression           0.681473     0.560417\n",
       "1           Linear SVM           0.681250     0.550298\n",
       "2        Random Forest           0.654687     1.000000\n",
       "3              XGBoost           0.634859     1.000000\n",
       "4                  SVM           0.631436     0.584821\n",
       "5  K-Nearest Neighbors           0.607403     0.669345"
      ]
     },
     "execution_count": 52,
     "metadata": {},
     "output_type": "execute_result"
    }
   ],
   "source": [
    "eval_df1.sort_values(['Average Val Score'], ascending=False).reset_index(drop=True)"
   ]
  },
  {
   "cell_type": "markdown",
   "metadata": {},
   "source": [
    "Stratified k-fold cross validation models performances with train predictor dataset preprocessed with the preprocessor_onehot."
   ]
  },
  {
   "cell_type": "code",
   "execution_count": 53,
   "metadata": {},
   "outputs": [
    {
     "name": "stdout",
     "output_type": "stream",
     "text": [
      "Logistic Regression results: \n",
      "--------------------------------------------------\n",
      "Training score: 0.6577380952380951\n",
      "Average validation score: 0.7477306547619047\n",
      "Standard deviation: 0.05619658233002603\n",
      "Training time: 0.01823 seconds\n",
      "\n",
      "Linear SVM results: \n",
      "--------------------------------------------------\n",
      "Training score: 0.6467261904761904\n",
      "Average validation score: 0.7428571428571428\n",
      "Standard deviation: 0.05764095654007304\n",
      "Training time: 0.01447 seconds\n",
      "\n",
      "SVM results: \n",
      "--------------------------------------------------\n",
      "Training score: 0.7160714285714286\n",
      "Average validation score: 0.7561755952380953\n",
      "Standard deviation: 0.03447647231904331\n",
      "Training time: 0.01494 seconds\n",
      "\n",
      "K-Nearest Neighbors results: \n",
      "--------------------------------------------------\n",
      "Training score: 0.6982142857142857\n",
      "Average validation score: 0.6604724702380953\n",
      "Standard deviation: 0.04158939176516276\n",
      "Training time: 0.0 seconds\n",
      "\n",
      "Random Forest results: \n",
      "--------------------------------------------------\n",
      "Training score: 1.0\n",
      "Average validation score: 0.7400669642857143\n",
      "Standard deviation: 0.04034012006937059\n",
      "Training time: 0.25668 seconds\n",
      "\n",
      "XGBoost results: \n",
      "--------------------------------------------------\n",
      "Training score: 1.0\n",
      "Average validation score: 0.7396205357142858\n",
      "Standard deviation: 0.05366621079527087\n",
      "Training time: 0.13703 seconds\n",
      "\n",
      "Plotting the results: \n"
     ]
    },
    {
     "data": {
      "image/png": "[encoded data removed]",
      "text/plain": [
       "<Figure size 1500x600 with 1 Axes>"
      ]
     },
     "metadata": {},
     "output_type": "display_data"
    }
   ],
   "source": [
    "eval_df2 = evaluate_models_cv(models=models, X_train=X_train_prepared2, y_train=y_train)"
   ]
  },
  {
   "cell_type": "code",
   "execution_count": 54,
   "metadata": {},
   "outputs": [
    {
     "data": {
      "text/html": [
       "<div>\n",
       "<style scoped>\n",
       "    .dataframe tbody tr th:only-of-type {\n",
       "        vertical-align: middle;\n",
       "    }\n",
       "\n",
       "    .dataframe tbody tr th {\n",
       "        vertical-align: top;\n",
       "    }\n",
       "\n",
       "    .dataframe thead th {\n",
       "        text-align: right;\n",
       "    }\n",
       "</style>\n",
       "<table border=\"1\" class=\"dataframe\">\n",
       "  <thead>\n",
       "    <tr style=\"text-align: right;\">\n",
       "      <th></th>\n",
       "      <th>Model</th>\n",
       "      <th>Average Val Score</th>\n",
       "      <th>Train Score</th>\n",
       "    </tr>\n",
       "  </thead>\n",
       "  <tbody>\n",
       "    <tr>\n",
       "      <th>0</th>\n",
       "      <td>SVM</td>\n",
       "      <td>0.756176</td>\n",
       "      <td>0.716071</td>\n",
       "    </tr>\n",
       "    <tr>\n",
       "      <th>1</th>\n",
       "      <td>Logistic Regression</td>\n",
       "      <td>0.747731</td>\n",
       "      <td>0.657738</td>\n",
       "    </tr>\n",
       "    <tr>\n",
       "      <th>2</th>\n",
       "      <td>Linear SVM</td>\n",
       "      <td>0.742857</td>\n",
       "      <td>0.646726</td>\n",
       "    </tr>\n",
       "    <tr>\n",
       "      <th>3</th>\n",
       "      <td>Random Forest</td>\n",
       "      <td>0.740067</td>\n",
       "      <td>1.000000</td>\n",
       "    </tr>\n",
       "    <tr>\n",
       "      <th>4</th>\n",
       "      <td>XGBoost</td>\n",
       "      <td>0.739621</td>\n",
       "      <td>1.000000</td>\n",
       "    </tr>\n",
       "    <tr>\n",
       "      <th>5</th>\n",
       "      <td>K-Nearest Neighbors</td>\n",
       "      <td>0.660472</td>\n",
       "      <td>0.698214</td>\n",
       "    </tr>\n",
       "  </tbody>\n",
       "</table>\n",
       "</div>"
      ],
      "text/plain": [
       "                 Model  Average Val Score  Train Score\n",
       "0                  SVM           0.756176     0.716071\n",
       "1  Logistic Regression           0.747731     0.657738\n",
       "2           Linear SVM           0.742857     0.646726\n",
       "3        Random Forest           0.740067     1.000000\n",
       "4              XGBoost           0.739621     1.000000\n",
       "5  K-Nearest Neighbors           0.660472     0.698214"
      ]
     },
     "execution_count": 54,
     "metadata": {},
     "output_type": "execute_result"
    }
   ],
   "source": [
    "eval_df2.sort_values(['Average Val Score'], ascending=False).reset_index(drop=True)"
   ]
  },
  {
   "cell_type": "markdown",
   "metadata": {},
   "source": [
    "- Wow! Surprisingly, one-hot encoding all the categorical features presented a better performance for this case. Thus, I will stick with the preprocessor_onehot.\n",
    "- SVM presents the highest average validation roc-auc score. Furthermore, Random Forest is overfitting. There is a significant difference between its validation and training errors. In fact, the training error is zero. Thus, the Random Forest model exhibits low bias and high variance. \n",
    "- Since there is just a few difference between Random Forest and SVM roc-auc scores, I will choose Random Forest for hyperparameter tuning and final model evaluation because there is more room for performance improvement with it (due to the overfit)."
   ]
  },
  {
   "cell_type": "markdown",
   "metadata": {},
   "source": [
    "### Hyperparameter tuning\n",
    "As I intend to tune Random Forest model, I won't use GridSearchCV.\n",
    "\n",
    "Why not use grid search?\n",
    "\n",
    "Using grid search CV to tune Random Forest can be problematic due to its computational expense, limitations in granularity and adaptability, lack of consideration for interaction effects, inefficient exploration of the hyperparameter space, and inefficient allocation of computational resources.\n",
    "Grid search exhaustively searches through all combinations of specified hyperparameters, it does not adapt its search based on the observed performance of previous hyperparameter configurations. Also, hyperparameters in Random Forest can have complex interactions, where the impact of one hyperparameter depends on the values of others. Grid search does not explicitly consider these interactions and evaluates hyperparameters independently.\n",
    "Considering this, I will tune Random Forest using Bayesian Optimization.\n",
    "\n",
    "What is Bayesian Optimization?\n",
    "\n",
    "Bayesian optimization is an efficient and adaptive technique for finding the optimal combination of hyperparameters for a machine learning model. It uses probabilistic models to intelligently explore the hyperparameter space, balancing exploration and exploitation."
   ]
  },
  {
   "cell_type": "markdown",
   "metadata": {},
   "source": [
    "An important point here is to define class_weight hyperparameter. Then, the algorithm will assign different weights for the target's minority (defaulters) and majority (non-defaulters) class instances. Thus, the model will be penalized when mistakenly predicting a defaulter and also be able to better learn the patterns in minority class data samples."
   ]
  },
  {
   "cell_type": "code",
   "execution_count": 57,
   "metadata": {},
   "outputs": [],
   "source": [
    "n_folds = 5\n",
    "stratified_kfold = StratifiedKFold(n_splits=n_folds, shuffle=True, random_state=42)\n",
    "\n",
    "search_space = {\n",
    "    'n_estimators': Integer(100, 700),\n",
    "    'criterion': Categorical(['gini', 'entropy', 'log_loss']),\n",
    "    'max_depth': Integer(2, 16),\n",
    "    'min_samples_split': Integer(2, 50),\n",
    "    'min_samples_leaf': Integer(2, 25),\n",
    "    'bootstrap': Categorical([True, False]),\n",
    "    'class_weight': Categorical(['balanced', 'balanced_subsample']),\n",
    "    'max_features': Categorical(['sqrt', 'log2', None])\n",
    "}\n",
    "\n",
    "bayesian_search = BayesSearchCV(estimator=RandomForestClassifier(), search_spaces=search_space, cv=stratified_kfold, n_iter=50, scoring='roc_auc', return_train_score=True, random_state=42)"
   ]
  },
  {
   "cell_type": "code",
   "execution_count": 65,
   "metadata": {},
   "outputs": [
    {
     "data": {
      "text/html": [
       "<style>#sk-container-id-3 {color: black;}#sk-container-id-3 pre{padding: 0;}#sk-container-id-3 div.sk-toggleable {background-color: white;}#sk-container-id-3 label.sk-toggleable__label {cursor: pointer;display: block;width: 100%;margin-bottom: 0;padding: 0.3em;box-sizing: border-box;text-align: center;}#sk-container-id-3 label.sk-toggleable__label-arrow:before {content: \"▸\";float: left;margin-right: 0.25em;color: #696969;}#sk-container-id-3 label.sk-toggleable__label-arrow:hover:before {color: black;}#sk-container-id-3 div.sk-estimator:hover label.sk-toggleable__label-arrow:before {color: black;}#sk-container-id-3 div.sk-toggleable__content {max-height: 0;max-width: 0;overflow: hidden;text-align: left;background-color: #f0f8ff;}#sk-container-id-3 div.sk-toggleable__content pre {margin: 0.2em;color: black;border-radius: 0.25em;background-color: #f0f8ff;}#sk-container-id-3 input.sk-toggleable__control:checked~div.sk-toggleable__content {max-height: 200px;max-width: 100%;overflow: auto;}#sk-container-id-3 input.sk-toggleable__control:checked~label.sk-toggleable__label-arrow:before {content: \"▾\";}#sk-container-id-3 div.sk-estimator input.sk-toggleable__control:checked~label.sk-toggleable__label {background-color: #d4ebff;}#sk-container-id-3 div.sk-label input.sk-toggleable__control:checked~label.sk-toggleable__label {background-color: #d4ebff;}#sk-container-id-3 input.sk-hidden--visually {border: 0;clip: rect(1px 1px 1px 1px);clip: rect(1px, 1px, 1px, 1px);height: 1px;margin: -1px;overflow: hidden;padding: 0;position: absolute;width: 1px;}#sk-container-id-3 div.sk-estimator {font-family: monospace;background-color: #f0f8ff;border: 1px dotted black;border-radius: 0.25em;box-sizing: border-box;margin-bottom: 0.5em;}#sk-container-id-3 div.sk-estimator:hover {background-color: #d4ebff;}#sk-container-id-3 div.sk-parallel-item::after {content: \"\";width: 100%;border-bottom: 1px solid gray;flex-grow: 1;}#sk-container-id-3 div.sk-label:hover label.sk-toggleable__label {background-color: #d4ebff;}#sk-container-id-3 div.sk-serial::before {content: \"\";position: absolute;border-left: 1px solid gray;box-sizing: border-box;top: 0;bottom: 0;left: 50%;z-index: 0;}#sk-container-id-3 div.sk-serial {display: flex;flex-direction: column;align-items: center;background-color: white;padding-right: 0.2em;padding-left: 0.2em;position: relative;}#sk-container-id-3 div.sk-item {position: relative;z-index: 1;}#sk-container-id-3 div.sk-parallel {display: flex;align-items: stretch;justify-content: center;background-color: white;position: relative;}#sk-container-id-3 div.sk-item::before, #sk-container-id-3 div.sk-parallel-item::before {content: \"\";position: absolute;border-left: 1px solid gray;box-sizing: border-box;top: 0;bottom: 0;left: 50%;z-index: -1;}#sk-container-id-3 div.sk-parallel-item {display: flex;flex-direction: column;z-index: 1;position: relative;background-color: white;}#sk-container-id-3 div.sk-parallel-item:first-child::after {align-self: flex-end;width: 50%;}#sk-container-id-3 div.sk-parallel-item:last-child::after {align-self: flex-start;width: 50%;}#sk-container-id-3 div.sk-parallel-item:only-child::after {width: 0;}#sk-container-id-3 div.sk-dashed-wrapped {border: 1px dashed gray;margin: 0 0.4em 0.5em 0.4em;box-sizing: border-box;padding-bottom: 0.4em;background-color: white;}#sk-container-id-3 div.sk-label label {font-family: monospace;font-weight: bold;display: inline-block;line-height: 1.2em;}#sk-container-id-3 div.sk-label-container {text-align: center;}#sk-container-id-3 div.sk-container {/* jupyter's `normalize.less` sets `[hidden] { display: none; }` but bootstrap.min.css set `[hidden] { display: none !important; }` so we also need the `!important` here to be able to override the default hidden behavior on the sphinx rendered scikit-learn.org. See: https://github.com/scikit-learn/scikit-learn/issues/21755 */display: inline-block !important;position: relative;}#sk-container-id-3 div.sk-text-repr-fallback {display: none;}</style><div id=\"sk-container-id-3\" class=\"sk-top-container\"><div class=\"sk-text-repr-fallback\"><pre>BayesSearchCV(cv=StratifiedKFold(n_splits=5, random_state=42, shuffle=True),\n",
       "              estimator=RandomForestClassifier(), random_state=42,\n",
       "              return_train_score=True, scoring=&#x27;roc_auc&#x27;,\n",
       "              search_spaces={&#x27;bootstrap&#x27;: Categorical(categories=(True, False), prior=None),\n",
       "                             &#x27;class_weight&#x27;: Categorical(categories=(&#x27;balanced&#x27;, &#x27;balanced_subsample&#x27;), prior=None),\n",
       "                             &#x27;criterion&#x27;: Categorical(...\n",
       "                             &#x27;max_depth&#x27;: Integer(low=2, high=16, prior=&#x27;uniform&#x27;, transform=&#x27;normalize&#x27;),\n",
       "                             &#x27;max_features&#x27;: Categorical(categories=(&#x27;sqrt&#x27;, &#x27;log2&#x27;, None), prior=None),\n",
       "                             &#x27;min_samples_leaf&#x27;: Integer(low=2, high=25, prior=&#x27;uniform&#x27;, transform=&#x27;normalize&#x27;),\n",
       "                             &#x27;min_samples_split&#x27;: Integer(low=2, high=50, prior=&#x27;uniform&#x27;, transform=&#x27;normalize&#x27;),\n",
       "                             &#x27;n_estimators&#x27;: Integer(low=100, high=700, prior=&#x27;uniform&#x27;, transform=&#x27;normalize&#x27;)})</pre><b>In a Jupyter environment, please rerun this cell to show the HTML representation or trust the notebook. <br />On GitHub, the HTML representation is unable to render, please try loading this page with nbviewer.org.</b></div><div class=\"sk-container\" hidden><div class=\"sk-item sk-dashed-wrapped\"><div class=\"sk-label-container\"><div class=\"sk-label sk-toggleable\"><input class=\"sk-toggleable__control sk-hidden--visually\" id=\"sk-estimator-id-5\" type=\"checkbox\" ><label for=\"sk-estimator-id-5\" class=\"sk-toggleable__label sk-toggleable__label-arrow\">BayesSearchCV</label><div class=\"sk-toggleable__content\"><pre>BayesSearchCV(cv=StratifiedKFold(n_splits=5, random_state=42, shuffle=True),\n",
       "              estimator=RandomForestClassifier(), random_state=42,\n",
       "              return_train_score=True, scoring=&#x27;roc_auc&#x27;,\n",
       "              search_spaces={&#x27;bootstrap&#x27;: Categorical(categories=(True, False), prior=None),\n",
       "                             &#x27;class_weight&#x27;: Categorical(categories=(&#x27;balanced&#x27;, &#x27;balanced_subsample&#x27;), prior=None),\n",
       "                             &#x27;criterion&#x27;: Categorical(...\n",
       "                             &#x27;max_depth&#x27;: Integer(low=2, high=16, prior=&#x27;uniform&#x27;, transform=&#x27;normalize&#x27;),\n",
       "                             &#x27;max_features&#x27;: Categorical(categories=(&#x27;sqrt&#x27;, &#x27;log2&#x27;, None), prior=None),\n",
       "                             &#x27;min_samples_leaf&#x27;: Integer(low=2, high=25, prior=&#x27;uniform&#x27;, transform=&#x27;normalize&#x27;),\n",
       "                             &#x27;min_samples_split&#x27;: Integer(low=2, high=50, prior=&#x27;uniform&#x27;, transform=&#x27;normalize&#x27;),\n",
       "                             &#x27;n_estimators&#x27;: Integer(low=100, high=700, prior=&#x27;uniform&#x27;, transform=&#x27;normalize&#x27;)})</pre></div></div></div><div class=\"sk-parallel\"><div class=\"sk-parallel-item\"><div class=\"sk-item\"><div class=\"sk-label-container\"><div class=\"sk-label sk-toggleable\"><input class=\"sk-toggleable__control sk-hidden--visually\" id=\"sk-estimator-id-6\" type=\"checkbox\" ><label for=\"sk-estimator-id-6\" class=\"sk-toggleable__label sk-toggleable__label-arrow\">estimator: RandomForestClassifier</label><div class=\"sk-toggleable__content\"><pre>RandomForestClassifier()</pre></div></div></div><div class=\"sk-serial\"><div class=\"sk-item\"><div class=\"sk-estimator sk-toggleable\"><input class=\"sk-toggleable__control sk-hidden--visually\" id=\"sk-estimator-id-7\" type=\"checkbox\" ><label for=\"sk-estimator-id-7\" class=\"sk-toggleable__label sk-toggleable__label-arrow\">RandomForestClassifier</label><div class=\"sk-toggleable__content\"><pre>RandomForestClassifier()</pre></div></div></div></div></div></div></div></div></div></div>"
      ],
      "text/plain": [
       "BayesSearchCV(cv=StratifiedKFold(n_splits=5, random_state=42, shuffle=True),\n",
       "              estimator=RandomForestClassifier(), random_state=42,\n",
       "              return_train_score=True, scoring='roc_auc',\n",
       "              search_spaces={'bootstrap': Categorical(categories=(True, False), prior=None),\n",
       "                             'class_weight': Categorical(categories=('balanced', 'balanced_subsample'), prior=None),\n",
       "                             'criterion': Categorical(...\n",
       "                             'max_depth': Integer(low=2, high=16, prior='uniform', transform='normalize'),\n",
       "                             'max_features': Categorical(categories=('sqrt', 'log2', None), prior=None),\n",
       "                             'min_samples_leaf': Integer(low=2, high=25, prior='uniform', transform='normalize'),\n",
       "                             'min_samples_split': Integer(low=2, high=50, prior='uniform', transform='normalize'),\n",
       "                             'n_estimators': Integer(low=100, high=700, prior='uniform', transform='normalize')})"
      ]
     },
     "execution_count": 65,
     "metadata": {},
     "output_type": "execute_result"
    }
   ],
   "source": [
    "bayesian_search.fit(X_train_prepared_onehot, y_train)"
   ]
  },
  {
   "cell_type": "code",
   "execution_count": 72,
   "metadata": {},
   "outputs": [
    {
     "name": "stdout",
     "output_type": "stream",
     "text": [
      "The best params fund for XGBoost are: \n"
     ]
    },
    {
     "data": {
      "text/plain": [
       "OrderedDict([('bootstrap', True),\n",
       "             ('class_weight', 'balanced'),\n",
       "             ('criterion', 'entropy'),\n",
       "             ('max_depth', 13),\n",
       "             ('max_features', 'log2'),\n",
       "             ('min_samples_leaf', 6),\n",
       "             ('min_samples_split', 50),\n",
       "             ('n_estimators', 166)])"
      ]
     },
     "execution_count": 72,
     "metadata": {},
     "output_type": "execute_result"
    }
   ],
   "source": [
    "print(f'The best params fund for XGBoost are: ')\n",
    "bayesian_search.best_params_"
   ]
  },
  {
   "cell_type": "markdown",
   "metadata": {},
   "source": [
    "Let's take a look into some results obtained by the bayesian search cv, specially for important parameters like class_weight, criterion, max_depth, min_samples_leaf, min_samples_split and n_estimators."
   ]
  },
  {
   "cell_type": "code",
   "execution_count": 66,
   "metadata": {},
   "outputs": [
    {
     "data": {
      "text/html": [
       "<div>\n",
       "<style scoped>\n",
       "    .dataframe tbody tr th:only-of-type {\n",
       "        vertical-align: middle;\n",
       "    }\n",
       "\n",
       "    .dataframe tbody tr th {\n",
       "        vertical-align: top;\n",
       "    }\n",
       "\n",
       "    .dataframe thead th {\n",
       "        text-align: right;\n",
       "    }\n",
       "</style>\n",
       "<table border=\"1\" class=\"dataframe\">\n",
       "  <thead>\n",
       "    <tr style=\"text-align: right;\">\n",
       "      <th></th>\n",
       "      <th>rank_test_score</th>\n",
       "      <th>mean_test_score</th>\n",
       "      <th>mean_train_score</th>\n",
       "      <th>param_class_weight</th>\n",
       "      <th>param_criterion</th>\n",
       "      <th>param_max_depth</th>\n",
       "      <th>param_min_samples_leaf</th>\n",
       "      <th>param_min_samples_split</th>\n",
       "      <th>param_n_estimators</th>\n",
       "    </tr>\n",
       "  </thead>\n",
       "  <tbody>\n",
       "    <tr>\n",
       "      <th>27</th>\n",
       "      <td>1</td>\n",
       "      <td>0.764249</td>\n",
       "      <td>0.840809</td>\n",
       "      <td>balanced</td>\n",
       "      <td>entropy</td>\n",
       "      <td>13</td>\n",
       "      <td>6</td>\n",
       "      <td>50</td>\n",
       "      <td>166</td>\n",
       "    </tr>\n",
       "    <tr>\n",
       "      <th>45</th>\n",
       "      <td>2</td>\n",
       "      <td>0.763802</td>\n",
       "      <td>0.809861</td>\n",
       "      <td>balanced</td>\n",
       "      <td>entropy</td>\n",
       "      <td>16</td>\n",
       "      <td>25</td>\n",
       "      <td>2</td>\n",
       "      <td>700</td>\n",
       "    </tr>\n",
       "    <tr>\n",
       "      <th>44</th>\n",
       "      <td>3</td>\n",
       "      <td>0.763579</td>\n",
       "      <td>0.816099</td>\n",
       "      <td>balanced_subsample</td>\n",
       "      <td>log_loss</td>\n",
       "      <td>16</td>\n",
       "      <td>22</td>\n",
       "      <td>41</td>\n",
       "      <td>700</td>\n",
       "    </tr>\n",
       "    <tr>\n",
       "      <th>8</th>\n",
       "      <td>4</td>\n",
       "      <td>0.763318</td>\n",
       "      <td>0.875642</td>\n",
       "      <td>balanced_subsample</td>\n",
       "      <td>log_loss</td>\n",
       "      <td>8</td>\n",
       "      <td>7</td>\n",
       "      <td>2</td>\n",
       "      <td>322</td>\n",
       "    </tr>\n",
       "    <tr>\n",
       "      <th>47</th>\n",
       "      <td>5</td>\n",
       "      <td>0.763095</td>\n",
       "      <td>0.809247</td>\n",
       "      <td>balanced_subsample</td>\n",
       "      <td>log_loss</td>\n",
       "      <td>16</td>\n",
       "      <td>25</td>\n",
       "      <td>2</td>\n",
       "      <td>424</td>\n",
       "    </tr>\n",
       "    <tr>\n",
       "      <th>6</th>\n",
       "      <td>6</td>\n",
       "      <td>0.763021</td>\n",
       "      <td>0.825681</td>\n",
       "      <td>balanced_subsample</td>\n",
       "      <td>gini</td>\n",
       "      <td>14</td>\n",
       "      <td>16</td>\n",
       "      <td>33</td>\n",
       "      <td>353</td>\n",
       "    </tr>\n",
       "    <tr>\n",
       "      <th>3</th>\n",
       "      <td>7</td>\n",
       "      <td>0.762984</td>\n",
       "      <td>0.859105</td>\n",
       "      <td>balanced</td>\n",
       "      <td>gini</td>\n",
       "      <td>13</td>\n",
       "      <td>4</td>\n",
       "      <td>38</td>\n",
       "      <td>624</td>\n",
       "    </tr>\n",
       "    <tr>\n",
       "      <th>25</th>\n",
       "      <td>8</td>\n",
       "      <td>0.762909</td>\n",
       "      <td>0.852139</td>\n",
       "      <td>balanced</td>\n",
       "      <td>gini</td>\n",
       "      <td>16</td>\n",
       "      <td>2</td>\n",
       "      <td>50</td>\n",
       "      <td>403</td>\n",
       "    </tr>\n",
       "    <tr>\n",
       "      <th>22</th>\n",
       "      <td>9</td>\n",
       "      <td>0.762351</td>\n",
       "      <td>0.970426</td>\n",
       "      <td>balanced_subsample</td>\n",
       "      <td>entropy</td>\n",
       "      <td>16</td>\n",
       "      <td>2</td>\n",
       "      <td>16</td>\n",
       "      <td>611</td>\n",
       "    </tr>\n",
       "    <tr>\n",
       "      <th>15</th>\n",
       "      <td>10</td>\n",
       "      <td>0.762240</td>\n",
       "      <td>0.828068</td>\n",
       "      <td>balanced</td>\n",
       "      <td>log_loss</td>\n",
       "      <td>16</td>\n",
       "      <td>25</td>\n",
       "      <td>40</td>\n",
       "      <td>117</td>\n",
       "    </tr>\n",
       "  </tbody>\n",
       "</table>\n",
       "</div>"
      ],
      "text/plain": [
       "    rank_test_score  mean_test_score  mean_train_score  param_class_weight   \n",
       "27                1         0.764249          0.840809            balanced  \\\n",
       "45                2         0.763802          0.809861            balanced   \n",
       "44                3         0.763579          0.816099  balanced_subsample   \n",
       "8                 4         0.763318          0.875642  balanced_subsample   \n",
       "47                5         0.763095          0.809247  balanced_subsample   \n",
       "6                 6         0.763021          0.825681  balanced_subsample   \n",
       "3                 7         0.762984          0.859105            balanced   \n",
       "25                8         0.762909          0.852139            balanced   \n",
       "22                9         0.762351          0.970426  balanced_subsample   \n",
       "15               10         0.762240          0.828068            balanced   \n",
       "\n",
       "   param_criterion param_max_depth param_min_samples_leaf   \n",
       "27         entropy              13                      6  \\\n",
       "45         entropy              16                     25   \n",
       "44        log_loss              16                     22   \n",
       "8         log_loss               8                      7   \n",
       "47        log_loss              16                     25   \n",
       "6             gini              14                     16   \n",
       "3             gini              13                      4   \n",
       "25            gini              16                      2   \n",
       "22         entropy              16                      2   \n",
       "15        log_loss              16                     25   \n",
       "\n",
       "   param_min_samples_split param_n_estimators  \n",
       "27                      50                166  \n",
       "45                       2                700  \n",
       "44                      41                700  \n",
       "8                        2                322  \n",
       "47                       2                424  \n",
       "6                       33                353  \n",
       "3                       38                624  \n",
       "25                      50                403  \n",
       "22                      16                611  \n",
       "15                      40                117  "
      ]
     },
     "execution_count": 66,
     "metadata": {},
     "output_type": "execute_result"
    }
   ],
   "source": [
    "bayesian_search_results = pd.DataFrame(bayesian_search.cv_results_)\n",
    "bayesian_search_results = bayesian_search_results[['rank_test_score', 'mean_test_score', \n",
    "'mean_train_score', 'param_class_weight', \n",
    "'param_criterion', 'param_max_depth', \n",
    "'param_min_samples_leaf', 'param_min_samples_split', \n",
    "'param_n_estimators']]\n",
    "bayesian_search_results.sort_values(['rank_test_score']).head(10)"
   ]
  },
  {
   "cell_type": "markdown",
   "metadata": {},
   "source": [
    "I can see that some regularization was applied to Random Forest by looking at parameters like n_estimators, min_samples_split and min_samples_leaf values. Also, the training error / bias has increased while the variance has decreased. Thus, it was possible to improve the roc-auc score from 0.740067 to 0.764249, good. As expected, due to the overfit, there was more room for performance improvement."
   ]
  },
  {
   "cell_type": "markdown",
   "metadata": {},
   "source": [
    "# 7. Final production model testing and evaluation\n",
    "- In this step, I intend to evaluate our final tuned model on test data (simulating production unseen data).\n",
    "- Once I am facing a credit scoring problem, ROC-AUC score is the metric of interest. We want the model to differentiate well between customers who will default on loans and those who will not.\n",
    "- A higher ROC-AUC score suggests that the model is better at ranking customers by their credit risk, which is essential for making informed lending decisions and managing the risk associated with loan portfolios."
   ]
  },
  {
   "cell_type": "markdown",
   "metadata": {},
   "source": [
    "Getting the final tuned Random Forest model."
   ]
  },
  {
   "cell_type": "code",
   "execution_count": 67,
   "metadata": {},
   "outputs": [],
   "source": [
    "final_rf_clf = bayesian_search.best_estimator_"
   ]
  },
  {
   "cell_type": "markdown",
   "metadata": {},
   "source": [
    "Using the preprocessor to transform the test predictor set. By applying just transform we avoid data leakage."
   ]
  },
  {
   "cell_type": "code",
   "execution_count": 68,
   "metadata": {},
   "outputs": [
    {
     "data": {
      "text/plain": [
       "(200, 25)"
      ]
     },
     "execution_count": 68,
     "metadata": {},
     "output_type": "execute_result"
    }
   ],
   "source": [
    "X_test_prepared = preprocessor_onehot.transform(X_test)\n",
    "X_test_prepared.shape"
   ]
  },
  {
   "cell_type": "markdown",
   "metadata": {},
   "source": [
    "Making predictions."
   ]
  },
  {
   "cell_type": "code",
   "execution_count": 69,
   "metadata": {},
   "outputs": [],
   "source": [
    "final_predictions = final_rf_clf.predict(X_test_prepared)"
   ]
  },
  {
   "cell_type": "markdown",
   "metadata": {},
   "source": [
    "Getting the default probabilities."
   ]
  },
  {
   "cell_type": "code",
   "execution_count": 97,
   "metadata": {},
   "outputs": [],
   "source": [
    "default_probas = final_rf_clf.predict_proba(X_test_prepared)[:, 1]"
   ]
  },
  {
   "cell_type": "markdown",
   "metadata": {},
   "source": [
    "### Evaluating the final tuned Random Forest model.\n"
   ]
  },
  {
   "cell_type": "code",
   "execution_count": 98,
   "metadata": {},
   "outputs": [
    {
     "name": "stdout",
     "output_type": "stream",
     "text": [
      "              precision    recall  f1-score   support\n",
      "\n",
      "           0       0.87      0.70      0.77       140\n",
      "           1       0.52      0.75      0.61        60\n",
      "\n",
      "    accuracy                           0.71       200\n",
      "   macro avg       0.69      0.72      0.69       200\n",
      "weighted avg       0.76      0.71      0.73       200\n",
      "\n"
     ]
    },
    {
     "data": {
      "image/png": "[encoded data removed]",
      "text/plain": [
       "<Figure size 640x480 with 2 Axes>"
      ]
     },
     "metadata": {},
     "output_type": "display_data"
    },
    {
     "data": {
      "image/png": "[encoded data removed]",
      "text/plain": [
       "<Figure size 500x300 with 1 Axes>"
      ]
     },
     "metadata": {},
     "output_type": "display_data"
    }
   ],
   "source": [
    "evaluate_classifier(y_test, final_predictions, default_probas)"
   ]
  },
  {
   "cell_type": "markdown",
   "metadata": {},
   "source": [
    "The model results are great!\n",
    "\n",
    "<b>ROC-AUC (0.78):</b> With a ROC-AUC score of 0.78, the model demonstrates outstanding ability to differentiate between defaulters and non-defaulters.<br>\n",
    "<b>Recall (0.75):</b> The model correctly identifies 75% of the defaulters. In practical terms, looking at the confusion matrix, it has accurately predicted 45 out of 60 defaulters.<br>\n",
    "<b>Precision (0.52):</b> Out of all customers predicted as default, 52% of them are actually defaulters. In practical terms, considering the confusion matrix, out of 87 customers predicted as default, 45 of them are indeed defaulters.<br>"
   ]
  },
  {
   "cell_type": "markdown",
   "metadata": {},
   "source": [
    "### Probabilities analysis"
   ]
  },
  {
   "cell_type": "markdown",
   "metadata": {},
   "source": [
    "I will take a look at predicted probabilities distributions by default below, in order to interpret the model results."
   ]
  },
  {
   "cell_type": "code",
   "execution_count": 160,
   "metadata": {},
   "outputs": [
    {
     "data": {
      "image/png": "[encoded data removed]",
      "text/plain": [
       "<Figure size 640x480 with 1 Axes>"
      ]
     },
     "metadata": {},
     "output_type": "display_data"
    }
   ],
   "source": [
    "probability_distributions(default_probas, y_test, positive_label='Default', negative_label='Not Default')"
   ]
  },
  {
   "cell_type": "code",
   "execution_count": 162,
   "metadata": {},
   "outputs": [],
   "source": [
    "bins = np.arange(0, 1.1, 0.1)\n",
    "bins_labels = [str(round(list(bins)[i - 1], 2)) + 'a' + str(round(list(bins)[i], 2)) for i in range(len(bins)) if i > 0]\n",
    "\n",
    "df_test_scores = pd.DataFrame({})\n",
    "df_test_scores['scores'] = default_probas\n",
    "df_test_scores['target'] = y_test\n",
    "df_test_scores['faixa'] = pd.cut(default_probas, bins, labels=bins_labels)\n",
    "df_test_rate = pd.crosstab(df_test_scores['faixa'], df_test_scores['target'])\n",
    "df_test_percent = df_test_rate.div(df_test_rate.sum(1).astype(float), axis=0)"
   ]
  }
 ],
 "metadata": {
  "kernelspec": {
   "display_name": "Python 3",
   "language": "python",
   "name": "python3"
  },
  "language_info": {
   "codemirror_mode": {
    "name": "ipython",
    "version": 3
   },
   "file_extension": ".py",
   "mimetype": "text/x-python",
   "name": "python",
   "nbconvert_exporter": "python",
   "pygments_lexer": "ipython3",
   "version": "3.11.4"
  },
  "orig_nbformat": 4
 },
 "nbformat": 4,
 "nbformat_minor": 2
}
