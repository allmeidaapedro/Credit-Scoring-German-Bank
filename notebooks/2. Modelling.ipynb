{
 "cells": [
  {
   "cell_type": "markdown",
   "metadata": {},
   "source": [
    "# Machine learning german bank's credit scoring\n",
    "In this project, I will build a <b>machine learning model to predict the default probability of German Bank's customers and assign them credit scores.</b> It involves <b>supervised learning</b>, using a labeled training set, for <b>classification.</b> The <b>target</b> variable is set to <b>1</b> if the customer represents a <b>bad risk (interpreted as default)</b>, and <b>0</b> if the customer represents a <b>good risk (interpreted as not default).</b>\n",
    "\n",
    "I will use the following <b>pipeline:</b>\n",
    "\n",
    "<b>1. Define the business problem.</b><br>\n",
    "<b>2. Collect the data and get a general overview of it.</b><br>\n",
    "<b>3. Split the data into train and test sets.</b><br>\n",
    "<b>4. Explore the data (exploratory data analysis)</b><br>\n",
    "<b>5. Data cleaning and preprocessing.</b><br>\n",
    "<b>6. Model training, comparison, selection and tuning.</b><br>\n",
    "<b>7. Final production model testing and evaluation.</b><br>\n",
    "<b>8. Conclude and interpret the model results.</b><br>\n",
    "<b>9. Deploy.</b><br>\n",
    "\n",
    "\n",
    "In <b>this notebook</b>, I will perform <b>machine learning modelling, covering steps 5 to 8 of the pipeline above</b>. The main <b>objective</b> here is to <b>build a model that is able to differentiate well between customers who will default on loans and those who will not, assigning credit scores to them based on the model's estimated probabilities of default.</b> Thus, I will <b>focus on the ROC-AUC score.</b> Furthermore, I will approach these steps in more detail below, providing an overview of each step and explaining the rationale behind each decision."
   ]
  },
  {
   "cell_type": "markdown",
   "metadata": {},
   "source": [
    "### Importing the libraries"
   ]
  },
  {
   "cell_type": "code",
   "execution_count": 14,
   "metadata": {},
   "outputs": [],
   "source": [
    "# Data manipulation and visualization.\n",
    "import pandas as pd\n",
    "import numpy as np\n",
    "import matplotlib.pyplot as plt\n",
    "import seaborn as sns\n",
    "\n",
    "# Modelling\n",
    "from sklearn.model_selection import train_test_split\n",
    "from sklearn.pipeline import Pipeline\n",
    "from sklearn.compose import ColumnTransformer\n",
    "from sklearn.preprocessing import OneHotEncoder, OrdinalEncoder, StandardScaler\n",
    "from category_encoders import TargetEncoder\n",
    "from sklearn.impute import SimpleImputer\n",
    "from sklearn.linear_model import LogisticRegression\n",
    "from sklearn.svm import LinearSVC, SVC\n",
    "from sklearn.neighbors import KNeighborsClassifier\n",
    "from sklearn.tree import DecisionTreeClassifier\n",
    "from sklearn.ensemble import RandomForestClassifier\n",
    "from xgboost import XGBClassifier\n",
    "from skopt import BayesSearchCV\n",
    "from skopt.space import Real, Categorical, Integer\n",
    "\n",
    "# Fixing some errors.\n",
    "np.int = int\n",
    "import math\n",
    "\n",
    "# Filter warnings.\n",
    "import warnings\n",
    "warnings.filterwarnings('ignore')\n",
    "\n",
    "# Utils\n",
    "from notebooks.modelling_utils import *"
   ]
  },
  {
   "cell_type": "markdown",
   "metadata": {},
   "source": [
    "### Reading the dataset"
   ]
  },
  {
   "cell_type": "code",
   "execution_count": 2,
   "metadata": {},
   "outputs": [],
   "source": [
    "df = pd.read_csv('data/german_credit_data.csv')\n",
    "# Dropping irrelevant column.\n",
    "df.drop(columns=['Unnamed: 0'], inplace=True)"
   ]
  },
  {
   "cell_type": "code",
   "execution_count": 3,
   "metadata": {},
   "outputs": [
    {
     "data": {
      "text/html": [
       "<div>\n",
       "<style scoped>\n",
       "    .dataframe tbody tr th:only-of-type {\n",
       "        vertical-align: middle;\n",
       "    }\n",
       "\n",
       "    .dataframe tbody tr th {\n",
       "        vertical-align: top;\n",
       "    }\n",
       "\n",
       "    .dataframe thead th {\n",
       "        text-align: right;\n",
       "    }\n",
       "</style>\n",
       "<table border=\"1\" class=\"dataframe\">\n",
       "  <thead>\n",
       "    <tr style=\"text-align: right;\">\n",
       "      <th></th>\n",
       "      <th>Age</th>\n",
       "      <th>Sex</th>\n",
       "      <th>Job</th>\n",
       "      <th>Housing</th>\n",
       "      <th>Saving accounts</th>\n",
       "      <th>Checking account</th>\n",
       "      <th>Credit amount</th>\n",
       "      <th>Duration</th>\n",
       "      <th>Purpose</th>\n",
       "      <th>Risk</th>\n",
       "    </tr>\n",
       "  </thead>\n",
       "  <tbody>\n",
       "    <tr>\n",
       "      <th>0</th>\n",
       "      <td>67</td>\n",
       "      <td>male</td>\n",
       "      <td>2</td>\n",
       "      <td>own</td>\n",
       "      <td>NaN</td>\n",
       "      <td>little</td>\n",
       "      <td>1169</td>\n",
       "      <td>6</td>\n",
       "      <td>radio/TV</td>\n",
       "      <td>good</td>\n",
       "    </tr>\n",
       "    <tr>\n",
       "      <th>1</th>\n",
       "      <td>22</td>\n",
       "      <td>female</td>\n",
       "      <td>2</td>\n",
       "      <td>own</td>\n",
       "      <td>little</td>\n",
       "      <td>moderate</td>\n",
       "      <td>5951</td>\n",
       "      <td>48</td>\n",
       "      <td>radio/TV</td>\n",
       "      <td>bad</td>\n",
       "    </tr>\n",
       "    <tr>\n",
       "      <th>2</th>\n",
       "      <td>49</td>\n",
       "      <td>male</td>\n",
       "      <td>1</td>\n",
       "      <td>own</td>\n",
       "      <td>little</td>\n",
       "      <td>NaN</td>\n",
       "      <td>2096</td>\n",
       "      <td>12</td>\n",
       "      <td>education</td>\n",
       "      <td>good</td>\n",
       "    </tr>\n",
       "    <tr>\n",
       "      <th>3</th>\n",
       "      <td>45</td>\n",
       "      <td>male</td>\n",
       "      <td>2</td>\n",
       "      <td>free</td>\n",
       "      <td>little</td>\n",
       "      <td>little</td>\n",
       "      <td>7882</td>\n",
       "      <td>42</td>\n",
       "      <td>furniture/equipment</td>\n",
       "      <td>good</td>\n",
       "    </tr>\n",
       "    <tr>\n",
       "      <th>4</th>\n",
       "      <td>53</td>\n",
       "      <td>male</td>\n",
       "      <td>2</td>\n",
       "      <td>free</td>\n",
       "      <td>little</td>\n",
       "      <td>little</td>\n",
       "      <td>4870</td>\n",
       "      <td>24</td>\n",
       "      <td>car</td>\n",
       "      <td>bad</td>\n",
       "    </tr>\n",
       "  </tbody>\n",
       "</table>\n",
       "</div>"
      ],
      "text/plain": [
       "   Age     Sex  Job Housing Saving accounts Checking account  Credit amount   \n",
       "0   67    male    2     own             NaN           little           1169  \\\n",
       "1   22  female    2     own          little         moderate           5951   \n",
       "2   49    male    1     own          little              NaN           2096   \n",
       "3   45    male    2    free          little           little           7882   \n",
       "4   53    male    2    free          little           little           4870   \n",
       "\n",
       "   Duration              Purpose  Risk  \n",
       "0         6             radio/TV  good  \n",
       "1        48             radio/TV   bad  \n",
       "2        12            education  good  \n",
       "3        42  furniture/equipment  good  \n",
       "4        24                  car   bad  "
      ]
     },
     "execution_count": 3,
     "metadata": {},
     "output_type": "execute_result"
    }
   ],
   "source": [
    "df.head()"
   ]
  },
  {
   "cell_type": "markdown",
   "metadata": {},
   "source": [
    "I will rename the columns in order to turn data manipulation easier. The target will be renamed as 'Default' for interpretation purposes."
   ]
  },
  {
   "cell_type": "code",
   "execution_count": 4,
   "metadata": {},
   "outputs": [],
   "source": [
    "df.columns = [x.lower().replace(' ', '_') for x in df.columns]\n",
    "df.rename(columns={'risk': 'default'}, inplace=True)"
   ]
  },
  {
   "cell_type": "markdown",
   "metadata": {},
   "source": [
    "Target (default) and sex can be expressed as binary features. I will label bad risk as 1 and good risk as 0 because the main focus will be in accurately predicting potential defaulters. Moreover, I will label male as 1 and female as 0."
   ]
  },
  {
   "cell_type": "code",
   "execution_count": 5,
   "metadata": {},
   "outputs": [],
   "source": [
    "df['default'] = df['default'].map({'bad': 1, 'good': 0})\n",
    "df['sex'] = df['sex'].map({'male': 1, 'female': 0})"
   ]
  },
  {
   "cell_type": "markdown",
   "metadata": {},
   "source": [
    "### Split the data into train and test sets\n",
    "- Test set is supposed to be data the model has never seen before.\n",
    "- This split will avoid data leakage, which occurs when information from the test set or future data inadvertently leaks into the training process, leading to over-optimistic performance estimate, compromising the model's ability to generalize to new, unseen data.\n",
    "- I will specify stratify=y so that the train_test_split function ensures that the splitting process maintains the same percentage of each target class in both the training and testing sets. This is particularly useful when dealing with imbalanced datasets, which is the case, as there are more defaulters. Stratification will enable a more accurate evaluation of the model's performance."
   ]
  },
  {
   "cell_type": "code",
   "execution_count": 6,
   "metadata": {},
   "outputs": [],
   "source": [
    "X = df.drop(columns=['default'])\n",
    "y = df['default'].copy()\n",
    "\n",
    "X_train, X_test, y_train, y_test = train_test_split(X, y, test_size=0.2, stratify=y, random_state=42)"
   ]
  },
  {
   "cell_type": "code",
   "execution_count": 7,
   "metadata": {},
   "outputs": [
    {
     "name": "stdout",
     "output_type": "stream",
     "text": [
      "Train predictor dataset shape: (800, 9).\n",
      "Train target dataset shape: (800,).\n",
      "Test predictor dataset shape: (200, 9).\n",
      "Test target dataset shape: (200,).\n"
     ]
    }
   ],
   "source": [
    "print(f'Train predictor dataset shape: {X_train.shape}.')\n",
    "print(f'Train target dataset shape: {y_train.shape}.')\n",
    "print(f'Test predictor dataset shape: {X_test.shape}.')\n",
    "print(f'Test target dataset shape: {y_test.shape}.')"
   ]
  },
  {
   "cell_type": "code",
   "execution_count": 8,
   "metadata": {},
   "outputs": [
    {
     "name": "stdout",
     "output_type": "stream",
     "text": [
      "Train target classes proportions: \n",
      "default\n",
      "0    0.7\n",
      "1    0.3\n",
      "Name: proportion, dtype: float64\n",
      "\n",
      "Test target classes proportions:\n",
      "default\n",
      "0    0.7\n",
      "1    0.3\n",
      "Name: proportion, dtype: float64\n"
     ]
    }
   ],
   "source": [
    "print(f'Train target classes proportions: ')\n",
    "print(y_train.value_counts(normalize=True))\n",
    "print(f'\\nTest target classes proportions:')\n",
    "print(y_test.value_counts(normalize=True))"
   ]
  },
  {
   "cell_type": "markdown",
   "metadata": {},
   "source": [
    "The train-test-split was succesfull and each target class proportion was preserved in both sets."
   ]
  },
  {
   "cell_type": "markdown",
   "metadata": {},
   "source": [
    "# 5. Data cleaning and preprocessing\n",
    "In order to fit machine learning algorithms, it is necessary to apply some transformations to the data.\n",
    "\n",
    "- <b>Impute missing values:</b> There are some missing values in saving accounts and checking account. I will replace them with mode. Dropping the null values is not a good choice because I have a little amount of data (just 1000 rows).<br>\n",
    "- <b>Outliers:</b> In the eda step, I investigated the outliers and saw that they don't represent inconsistent information like measurement errors. Thus, considering this and the fact that I have a little amount of data, I will not drop or treat any.<br>\n",
    "- In order to train tree-based algorithms, it is not necessary to scale the data. However, as I intend to test a different algorithms, I will apply standard scaler on numerical and categorical features (after encoding). By doing this, it will be possible to compare all models at once.\n",
    "- <b>Numerical features:</b> Some algorithms are sensitive to feature scaling because they use distance calculations or optimizations like gradient descent for being trained, which are affected by scale. Thus, I will apply StandardScaler on numeric attributes.<br>\n",
    "- <b>Categorical features:</b> Machine learning algorithms make mathematical calculations, so it's necessary to convert the categoric attributes to numeric by applying encoding techniques. Saving accounts and checking account present ordinal relationships while purpose has a higher cardinality. My hypothesis is that ordinal encoding in saving and checking accounts and target encoding in purpose and housing will perform better than one-hot encoding all the features. As a good data scientist, I will create two preprocessors and asses wheter my hypothesis is true by comparing the models performances on stratified k-fold cross validation by when trained with each preprocessing approach."
   ]
  },
  {
   "cell_type": "code",
   "execution_count": 9,
   "metadata": {},
   "outputs": [
    {
     "data": {
      "text/html": [
       "<div>\n",
       "<style scoped>\n",
       "    .dataframe tbody tr th:only-of-type {\n",
       "        vertical-align: middle;\n",
       "    }\n",
       "\n",
       "    .dataframe tbody tr th {\n",
       "        vertical-align: top;\n",
       "    }\n",
       "\n",
       "    .dataframe thead th {\n",
       "        text-align: right;\n",
       "    }\n",
       "</style>\n",
       "<table border=\"1\" class=\"dataframe\">\n",
       "  <thead>\n",
       "    <tr style=\"text-align: right;\">\n",
       "      <th></th>\n",
       "      <th>age</th>\n",
       "      <th>sex</th>\n",
       "      <th>job</th>\n",
       "      <th>housing</th>\n",
       "      <th>saving_accounts</th>\n",
       "      <th>checking_account</th>\n",
       "      <th>credit_amount</th>\n",
       "      <th>duration</th>\n",
       "      <th>purpose</th>\n",
       "    </tr>\n",
       "  </thead>\n",
       "  <tbody>\n",
       "    <tr>\n",
       "      <th>828</th>\n",
       "      <td>47</td>\n",
       "      <td>1</td>\n",
       "      <td>2</td>\n",
       "      <td>free</td>\n",
       "      <td>NaN</td>\n",
       "      <td>little</td>\n",
       "      <td>8335</td>\n",
       "      <td>36</td>\n",
       "      <td>car</td>\n",
       "    </tr>\n",
       "    <tr>\n",
       "      <th>997</th>\n",
       "      <td>38</td>\n",
       "      <td>1</td>\n",
       "      <td>2</td>\n",
       "      <td>own</td>\n",
       "      <td>little</td>\n",
       "      <td>NaN</td>\n",
       "      <td>804</td>\n",
       "      <td>12</td>\n",
       "      <td>radio/TV</td>\n",
       "    </tr>\n",
       "    <tr>\n",
       "      <th>148</th>\n",
       "      <td>28</td>\n",
       "      <td>1</td>\n",
       "      <td>2</td>\n",
       "      <td>own</td>\n",
       "      <td>little</td>\n",
       "      <td>little</td>\n",
       "      <td>5371</td>\n",
       "      <td>36</td>\n",
       "      <td>furniture/equipment</td>\n",
       "    </tr>\n",
       "    <tr>\n",
       "      <th>735</th>\n",
       "      <td>29</td>\n",
       "      <td>0</td>\n",
       "      <td>0</td>\n",
       "      <td>own</td>\n",
       "      <td>NaN</td>\n",
       "      <td>moderate</td>\n",
       "      <td>3990</td>\n",
       "      <td>36</td>\n",
       "      <td>domestic appliances</td>\n",
       "    </tr>\n",
       "    <tr>\n",
       "      <th>130</th>\n",
       "      <td>24</td>\n",
       "      <td>0</td>\n",
       "      <td>2</td>\n",
       "      <td>own</td>\n",
       "      <td>NaN</td>\n",
       "      <td>moderate</td>\n",
       "      <td>8487</td>\n",
       "      <td>48</td>\n",
       "      <td>car</td>\n",
       "    </tr>\n",
       "  </tbody>\n",
       "</table>\n",
       "</div>"
      ],
      "text/plain": [
       "     age  sex  job housing saving_accounts checking_account  credit_amount   \n",
       "828   47    1    2    free             NaN           little           8335  \\\n",
       "997   38    1    2     own          little              NaN            804   \n",
       "148   28    1    2     own          little           little           5371   \n",
       "735   29    0    0     own             NaN         moderate           3990   \n",
       "130   24    0    2     own             NaN         moderate           8487   \n",
       "\n",
       "     duration              purpose  \n",
       "828        36                  car  \n",
       "997        12             radio/TV  \n",
       "148        36  furniture/equipment  \n",
       "735        36  domestic appliances  \n",
       "130        48                  car  "
      ]
     },
     "execution_count": 9,
     "metadata": {},
     "output_type": "execute_result"
    }
   ],
   "source": [
    "X_train.head()"
   ]
  },
  {
   "cell_type": "markdown",
   "metadata": {},
   "source": [
    "Checking missing values."
   ]
  },
  {
   "cell_type": "code",
   "execution_count": 10,
   "metadata": {},
   "outputs": [
    {
     "data": {
      "text/plain": [
       "age                   0\n",
       "sex                   0\n",
       "job                   0\n",
       "housing               0\n",
       "saving_accounts     144\n",
       "checking_account    316\n",
       "credit_amount         0\n",
       "duration              0\n",
       "purpose               0\n",
       "dtype: int64"
      ]
     },
     "execution_count": 10,
     "metadata": {},
     "output_type": "execute_result"
    }
   ],
   "source": [
    "X_train.isna().sum()"
   ]
  },
  {
   "cell_type": "markdown",
   "metadata": {},
   "source": [
    "Checking numerical features."
   ]
  },
  {
   "cell_type": "code",
   "execution_count": 11,
   "metadata": {},
   "outputs": [
    {
     "name": "stdout",
     "output_type": "stream",
     "text": [
      "There are 5 numerical features. They are: ['age', 'sex', 'job', 'credit_amount', 'duration']\n"
     ]
    }
   ],
   "source": [
    "numerical_features = X_train.select_dtypes('number').columns.to_list()\n",
    "print(f'There are {len(numerical_features)} numerical features. They are: {numerical_features}')"
   ]
  },
  {
   "cell_type": "markdown",
   "metadata": {},
   "source": [
    "Checking categorical features cardinality and unique values."
   ]
  },
  {
   "cell_type": "code",
   "execution_count": 12,
   "metadata": {},
   "outputs": [
    {
     "name": "stdout",
     "output_type": "stream",
     "text": [
      "There are 4 categorical features. They are: ['housing', 'saving_accounts', 'checking_account', 'purpose']\n",
      "\n",
      "housing\n",
      "Number of categories: 3. They are:\n",
      "['free' 'own' 'rent']\n",
      "\n",
      "saving_accounts\n",
      "Number of categories: 4. They are:\n",
      "[nan 'little' 'moderate' 'rich' 'quite rich']\n",
      "\n",
      "checking_account\n",
      "Number of categories: 3. They are:\n",
      "['little' nan 'moderate' 'rich']\n",
      "\n",
      "purpose\n",
      "Number of categories: 8. They are:\n",
      "['car' 'radio/TV' 'furniture/equipment' 'domestic appliances' 'education'\n",
      " 'repairs' 'vacation/others' 'business']\n",
      "\n"
     ]
    }
   ],
   "source": [
    "categorical_features = X_train.select_dtypes('object').columns.to_list()\n",
    "\n",
    "print(f'There are {len(categorical_features)} categorical features. They are: {categorical_features}')\n",
    "print()\n",
    "\n",
    "for feature in categorical_features:\n",
    "    print(feature)\n",
    "    print(f'Number of categories: {X_train[feature].nunique()}. They are:')\n",
    "    print(X_train[feature].unique())\n",
    "    print()"
   ]
  },
  {
   "cell_type": "markdown",
   "metadata": {},
   "source": [
    "I will build the preprocessors below. As I have mentioned above, once I intend to test different algorithms at once, I will scale all the features excepting one-hot encoded ones (it is not necessary)."
   ]
  },
  {
   "cell_type": "code",
   "execution_count": 13,
   "metadata": {},
   "outputs": [],
   "source": [
    "target_encoder_features = ['purpose', 'housing']\n",
    "ordinal_encoder_features = ['saving_accounts', 'checking_account']"
   ]
  },
  {
   "cell_type": "markdown",
   "metadata": {},
   "source": [
    "Preprocessor 1: Applying ordinal encoding to saving and checking accounts (after imputing missing values with mode) and target encoding to purpose and housing. Then, I will apply standard scaling to all the features."
   ]
  },
  {
   "cell_type": "code",
   "execution_count": 15,
   "metadata": {},
   "outputs": [],
   "source": [
    "ordinal_pipeline = Pipeline(\n",
    "    steps=[\n",
    "        ('imputer', SimpleImputer(strategy='most_frequent')), \n",
    "        ('ordinal_encoder', OrdinalEncoder()),\n",
    "        ('std_scaler', StandardScaler())\n",
    "        ]\n",
    "        )\n",
    "\n",
    "target_pipeline = Pipeline(\n",
    "    steps=[\n",
    "        ('target_encoder',TargetEncoder(cols=target_encoder_features)), \n",
    "        ('std_scaler', StandardScaler())\n",
    "        ]\n",
    "        )\n",
    "\n",
    "preprocessor_ordinal_target = ColumnTransformer(\n",
    "    transformers=[\n",
    "        ('ordinal_encoder', ordinal_pipeline, ordinal_encoder_features),\n",
    "        ('target_encoder', target_pipeline, target_encoder_features),\n",
    "        ('std_scaler', StandardScaler(), numerical_features)\n",
    "        ], remainder='passthrough'\n",
    "        )"
   ]
  },
  {
   "cell_type": "markdown",
   "metadata": {},
   "source": [
    "Preprocessor 2: Applying one-hot encoding to all the categorical features and standard scaling to the numerical features."
   ]
  },
  {
   "cell_type": "code",
   "execution_count": 16,
   "metadata": {},
   "outputs": [],
   "source": [
    "preprocessor_onehot = ColumnTransformer([\n",
    "    ('one-hot_encoder', OneHotEncoder(), categorical_features),\n",
    "    ('std_scaler', StandardScaler(), numerical_features)\n",
    "], remainder='passthrough')"
   ]
  },
  {
   "cell_type": "markdown",
   "metadata": {},
   "source": [
    "Preprocessing the train predictor dataset with both preprocessors constructed."
   ]
  },
  {
   "cell_type": "code",
   "execution_count": 17,
   "metadata": {},
   "outputs": [
    {
     "data": {
      "text/plain": [
       "(800, 9)"
      ]
     },
     "execution_count": 17,
     "metadata": {},
     "output_type": "execute_result"
    }
   ],
   "source": [
    "X_train_prepared_ordinal_target = preprocessor_ordinal_target.fit_transform(X_train, y_train)\n",
    "X_train_prepared_ordinal_target.shape"
   ]
  },
  {
   "cell_type": "code",
   "execution_count": 18,
   "metadata": {},
   "outputs": [
    {
     "data": {
      "text/plain": [
       "(800, 25)"
      ]
     },
     "execution_count": 18,
     "metadata": {},
     "output_type": "execute_result"
    }
   ],
   "source": [
    "X_train_prepared_onehot = preprocessor_onehot.fit_transform(X_train, y_train)\n",
    "X_train_prepared_onehot.shape"
   ]
  },
  {
   "cell_type": "markdown",
   "metadata": {},
   "source": [
    "Look how one-hot encoding the categorical features increased dimensionality. In theory, this will favor overfitting since we have a little amount of data and thus present a worse performance. Let's see it below with cross validation."
   ]
  },
  {
   "cell_type": "markdown",
   "metadata": {},
   "source": [
    "# 6. Model training, comparison, selection and tuning\n",
    "- In this step, I intend to compare different models' performances. In order to achieve this, I will use stratified k-fold cross validation to train each one of them, evaluating their roc-auc score.\n",
    "- The roc-auc score is the metric of focus when building a credit scoring model because it effectively measures the model's ability to discriminate between defaulters and non-defaulters, providing a comprehensive evaluation of its predictive power. \n",
    "- Accuracy is not a good metric because the target is imbalanced. Moreover, stratified k-fold cross-validation will maintain the target proportion in each fold, enabling a more accurate evaluation of the models' performances. These two strategies are efficient for dealing with imbalanced data.\n",
    "- My objective here is to select a best model to go for hyperparameter tuning. In order to get this best model, I will evaluate the highest roc-auc average validation scores and look at the bias-variance trade-off."
   ]
  },
  {
   "cell_type": "markdown",
   "metadata": {},
   "source": [
    "Dictionary of models for training and performance comparison."
   ]
  },
  {
   "cell_type": "code",
   "execution_count": 19,
   "metadata": {},
   "outputs": [],
   "source": [
    "models = {\n",
    "    'Logistic Regression': LogisticRegression(),\n",
    "    'Linear SVM': LinearSVC(),\n",
    "    'SVM': SVC(),\n",
    "    'K-Nearest Neighbors': KNeighborsClassifier(),\n",
    "    'Decision Tree': DecisionTreeClassifier(),\n",
    "    'Random Forest': RandomForestClassifier(),\n",
    "    'XGBoost': XGBClassifier()\n",
    "}"
   ]
  },
  {
   "cell_type": "markdown",
   "metadata": {},
   "source": [
    "Training and comparing the models' performances on the predictor train set transformed by applying the 'preprocessor_ordinal_target'."
   ]
  },
  {
   "cell_type": "code",
   "execution_count": 22,
   "metadata": {},
   "outputs": [
    {
     "name": "stdout",
     "output_type": "stream",
     "text": [
      "Logistic Regression results: \n",
      "--------------------------------------------------\n",
      "Training score: 0.5604166666666667\n",
      "Average validation score: 0.6814732142857143\n",
      "Standard deviation: 0.039292407325782576\n",
      "Training time: 0.00698 seconds\n",
      "\n",
      "Linear SVM results: \n",
      "--------------------------------------------------\n",
      "Training score: 0.5502976190476191\n",
      "Average validation score: 0.68125\n",
      "Standard deviation: 0.0388376821302785\n",
      "Training time: 0.02754 seconds\n",
      "\n",
      "SVM results: \n",
      "--------------------------------------------------\n",
      "Training score: 0.5848214285714286\n",
      "Average validation score: 0.6314360119047618\n",
      "Standard deviation: 0.034016608903587084\n",
      "Training time: 0.01865 seconds\n",
      "\n",
      "K-Nearest Neighbors results: \n",
      "--------------------------------------------------\n",
      "Training score: 0.6693452380952382\n",
      "Average validation score: 0.6074032738095239\n",
      "Standard deviation: 0.0334894481944407\n",
      "Training time: 0.0 seconds\n",
      "\n",
      "Decision Tree results: \n",
      "--------------------------------------------------\n",
      "Training score: 1.0\n",
      "Average validation score: 0.5580357142857142\n",
      "Standard deviation: 0.03195768975130026\n",
      "Training time: 0.00503 seconds\n",
      "\n",
      "Random Forest results: \n",
      "--------------------------------------------------\n",
      "Training score: 1.0\n",
      "Average validation score: 0.6533854166666666\n",
      "Standard deviation: 0.05263546628945105\n",
      "Training time: 0.25537 seconds\n",
      "\n",
      "XGBoost results: \n",
      "--------------------------------------------------\n",
      "Training score: 0.99375\n",
      "Average validation score: 0.6247395833333333\n",
      "Standard deviation: 0.04844352858212003\n",
      "Training time: 0.04687 seconds\n",
      "\n",
      "Plotting the results: \n"
     ]
    },
    {
     "data": {
      "image/png": "[encoded data removed]",
      "text/plain": [
       "<Figure size 1500x600 with 1 Axes>"
      ]
     },
     "metadata": {},
     "output_type": "display_data"
    }
   ],
   "source": [
    "eval_df_ordinal_target = evaluate_models_cv(models=models, X_train=X_train_prepared_ordinal_target, y_train=y_train)"
   ]
  },
  {
   "cell_type": "code",
   "execution_count": 23,
   "metadata": {},
   "outputs": [
    {
     "data": {
      "text/html": [
       "<div>\n",
       "<style scoped>\n",
       "    .dataframe tbody tr th:only-of-type {\n",
       "        vertical-align: middle;\n",
       "    }\n",
       "\n",
       "    .dataframe tbody tr th {\n",
       "        vertical-align: top;\n",
       "    }\n",
       "\n",
       "    .dataframe thead th {\n",
       "        text-align: right;\n",
       "    }\n",
       "</style>\n",
       "<table border=\"1\" class=\"dataframe\">\n",
       "  <thead>\n",
       "    <tr style=\"text-align: right;\">\n",
       "      <th></th>\n",
       "      <th>Model</th>\n",
       "      <th>Average Val Score</th>\n",
       "      <th>Train Score</th>\n",
       "    </tr>\n",
       "  </thead>\n",
       "  <tbody>\n",
       "    <tr>\n",
       "      <th>0</th>\n",
       "      <td>Logistic Regression</td>\n",
       "      <td>0.681473</td>\n",
       "      <td>0.560417</td>\n",
       "    </tr>\n",
       "    <tr>\n",
       "      <th>1</th>\n",
       "      <td>Linear SVM</td>\n",
       "      <td>0.681250</td>\n",
       "      <td>0.550298</td>\n",
       "    </tr>\n",
       "    <tr>\n",
       "      <th>2</th>\n",
       "      <td>Random Forest</td>\n",
       "      <td>0.653385</td>\n",
       "      <td>1.000000</td>\n",
       "    </tr>\n",
       "    <tr>\n",
       "      <th>3</th>\n",
       "      <td>SVM</td>\n",
       "      <td>0.631436</td>\n",
       "      <td>0.584821</td>\n",
       "    </tr>\n",
       "    <tr>\n",
       "      <th>4</th>\n",
       "      <td>XGBoost</td>\n",
       "      <td>0.624740</td>\n",
       "      <td>0.993750</td>\n",
       "    </tr>\n",
       "    <tr>\n",
       "      <th>5</th>\n",
       "      <td>K-Nearest Neighbors</td>\n",
       "      <td>0.607403</td>\n",
       "      <td>0.669345</td>\n",
       "    </tr>\n",
       "    <tr>\n",
       "      <th>6</th>\n",
       "      <td>Decision Tree</td>\n",
       "      <td>0.558036</td>\n",
       "      <td>1.000000</td>\n",
       "    </tr>\n",
       "  </tbody>\n",
       "</table>\n",
       "</div>"
      ],
      "text/plain": [
       "                 Model  Average Val Score  Train Score\n",
       "0  Logistic Regression           0.681473     0.560417\n",
       "1           Linear SVM           0.681250     0.550298\n",
       "2        Random Forest           0.653385     1.000000\n",
       "3                  SVM           0.631436     0.584821\n",
       "4              XGBoost           0.624740     0.993750\n",
       "5  K-Nearest Neighbors           0.607403     0.669345\n",
       "6        Decision Tree           0.558036     1.000000"
      ]
     },
     "execution_count": 23,
     "metadata": {},
     "output_type": "execute_result"
    }
   ],
   "source": [
    "eval_df_ordinal_target.sort_values(['Average Val Score'], ascending=False).reset_index(drop=True)"
   ]
  },
  {
   "cell_type": "markdown",
   "metadata": {},
   "source": [
    "Training and comparing the models' performances on the predictor train set transformed by applying the 'preprocessor_onehot'."
   ]
  },
  {
   "cell_type": "code",
   "execution_count": 24,
   "metadata": {},
   "outputs": [
    {
     "name": "stdout",
     "output_type": "stream",
     "text": [
      "Logistic Regression results: \n",
      "--------------------------------------------------\n",
      "Training score: 0.6577380952380951\n",
      "Average validation score: 0.7477306547619047\n",
      "Standard deviation: 0.05619658233002603\n",
      "Training time: 0.07413 seconds\n",
      "\n",
      "Linear SVM results: \n",
      "--------------------------------------------------\n",
      "Training score: 0.6467261904761904\n",
      "Average validation score: 0.7428571428571428\n",
      "Standard deviation: 0.05764095654007304\n",
      "Training time: 0.03375 seconds\n",
      "\n",
      "SVM results: \n",
      "--------------------------------------------------\n",
      "Training score: 0.7160714285714286\n",
      "Average validation score: 0.7561755952380953\n",
      "Standard deviation: 0.03447647231904331\n",
      "Training time: 0.01563 seconds\n",
      "\n",
      "K-Nearest Neighbors results: \n",
      "--------------------------------------------------\n",
      "Training score: 0.6982142857142857\n",
      "Average validation score: 0.6604724702380953\n",
      "Standard deviation: 0.04158939176516276\n",
      "Training time: 0.0 seconds\n",
      "\n",
      "Decision Tree results: \n",
      "--------------------------------------------------\n",
      "Training score: 1.0\n",
      "Average validation score: 0.6080357142857143\n",
      "Standard deviation: 0.024226263601153257\n",
      "Training time: 0.01646 seconds\n",
      "\n",
      "Random Forest results: \n",
      "--------------------------------------------------\n",
      "Training score: 1.0\n",
      "Average validation score: 0.7412016369047618\n",
      "Standard deviation: 0.052320377614773435\n",
      "Training time: 0.23356 seconds\n",
      "\n",
      "XGBoost results: \n",
      "--------------------------------------------------\n",
      "Training score: 1.0\n",
      "Average validation score: 0.7442336309523809\n",
      "Standard deviation: 0.05308781065421801\n",
      "Training time: 0.08612 seconds\n",
      "\n",
      "Plotting the results: \n"
     ]
    },
    {
     "data": {
      "image/png": "[encoded data removed]",
      "text/plain": [
       "<Figure size 1500x600 with 1 Axes>"
      ]
     },
     "metadata": {},
     "output_type": "display_data"
    }
   ],
   "source": [
    "eval_df_onehot = evaluate_models_cv(models=models, X_train=X_train_prepared_onehot, y_train=y_train)"
   ]
  },
  {
   "cell_type": "code",
   "execution_count": 25,
   "metadata": {},
   "outputs": [
    {
     "data": {
      "text/html": [
       "<div>\n",
       "<style scoped>\n",
       "    .dataframe tbody tr th:only-of-type {\n",
       "        vertical-align: middle;\n",
       "    }\n",
       "\n",
       "    .dataframe tbody tr th {\n",
       "        vertical-align: top;\n",
       "    }\n",
       "\n",
       "    .dataframe thead th {\n",
       "        text-align: right;\n",
       "    }\n",
       "</style>\n",
       "<table border=\"1\" class=\"dataframe\">\n",
       "  <thead>\n",
       "    <tr style=\"text-align: right;\">\n",
       "      <th></th>\n",
       "      <th>Model</th>\n",
       "      <th>Average Val Score</th>\n",
       "      <th>Train Score</th>\n",
       "    </tr>\n",
       "  </thead>\n",
       "  <tbody>\n",
       "    <tr>\n",
       "      <th>0</th>\n",
       "      <td>SVM</td>\n",
       "      <td>0.756176</td>\n",
       "      <td>0.716071</td>\n",
       "    </tr>\n",
       "    <tr>\n",
       "      <th>1</th>\n",
       "      <td>Logistic Regression</td>\n",
       "      <td>0.747731</td>\n",
       "      <td>0.657738</td>\n",
       "    </tr>\n",
       "    <tr>\n",
       "      <th>2</th>\n",
       "      <td>XGBoost</td>\n",
       "      <td>0.744234</td>\n",
       "      <td>1.000000</td>\n",
       "    </tr>\n",
       "    <tr>\n",
       "      <th>3</th>\n",
       "      <td>Linear SVM</td>\n",
       "      <td>0.742857</td>\n",
       "      <td>0.646726</td>\n",
       "    </tr>\n",
       "    <tr>\n",
       "      <th>4</th>\n",
       "      <td>Random Forest</td>\n",
       "      <td>0.741202</td>\n",
       "      <td>1.000000</td>\n",
       "    </tr>\n",
       "    <tr>\n",
       "      <th>5</th>\n",
       "      <td>K-Nearest Neighbors</td>\n",
       "      <td>0.660472</td>\n",
       "      <td>0.698214</td>\n",
       "    </tr>\n",
       "    <tr>\n",
       "      <th>6</th>\n",
       "      <td>Decision Tree</td>\n",
       "      <td>0.608036</td>\n",
       "      <td>1.000000</td>\n",
       "    </tr>\n",
       "  </tbody>\n",
       "</table>\n",
       "</div>"
      ],
      "text/plain": [
       "                 Model  Average Val Score  Train Score\n",
       "0                  SVM           0.756176     0.716071\n",
       "1  Logistic Regression           0.747731     0.657738\n",
       "2              XGBoost           0.744234     1.000000\n",
       "3           Linear SVM           0.742857     0.646726\n",
       "4        Random Forest           0.741202     1.000000\n",
       "5  K-Nearest Neighbors           0.660472     0.698214\n",
       "6        Decision Tree           0.608036     1.000000"
      ]
     },
     "execution_count": 25,
     "metadata": {},
     "output_type": "execute_result"
    }
   ],
   "source": [
    "eval_df_onehot.sort_values(['Average Val Score'], ascending=False).reset_index(drop=True)"
   ]
  },
  {
   "cell_type": "markdown",
   "metadata": {},
   "source": [
    "- Wow! Surprisingly, one-hot encoding all the categorical features presented a better performance for this case. Thus, I will stick with the 'preprocessor_onehot'.\n",
    "- SVM presents the highest average validation roc-auc score. Furthermore, Random Forest is overfitting. There is a significant difference between its validation and training errors. In fact, the training error is about zero. Thus, the Random Forest model exhibits low bias and high variance. \n",
    "- Since there is just a few difference between Random Forest and SVM roc-auc scores, I will choose Random Forest for hyperparameter tuning and final model evaluation because there is more room for performance improvement with it (due to the overfit).\n",
    "- Although XGBoost performed slightly better than Random Forest, I will choose the latter because it is an ensemble method that uses a bagging technique, which may be better for preventing overfitting. Additionally, it is faster, more efficient, and offers relatively simplicity and interpretability."
   ]
  },
  {
   "cell_type": "markdown",
   "metadata": {},
   "source": [
    "### Hyperparameter tuning\n",
    "As I intend to tune Random Forest model, I won't use GridSearchCV.\n",
    "\n",
    "Why not use grid search?\n",
    "\n",
    "Using grid search CV to tune Random Forest can be problematic due to its computational expense, limitations in granularity and adaptability, lack of consideration for interaction effects, inefficient exploration of the hyperparameter space, and inefficient allocation of computational resources.\n",
    "Grid search exhaustively searches through all combinations of specified hyperparameters, it does not adapt its search based on the observed performance of previous hyperparameter configurations. Also, hyperparameters in Random Forest can have complex interactions, where the impact of one hyperparameter depends on the values of others. Grid search does not explicitly consider these interactions and evaluates hyperparameters independently. \n",
    "Considering this, I will tune Random Forest using Bayesian Optimization.\n",
    "\n",
    "What is Bayesian Optimization?\n",
    "\n",
    "Bayesian optimization is an efficient and adaptive technique for finding the optimal combination of hyperparameters for a machine learning model. It uses probabilistic models to intelligently explore the hyperparameter space, balancing exploration and exploitation."
   ]
  },
  {
   "cell_type": "markdown",
   "metadata": {},
   "source": [
    "An important point here is to define class_weight hyperparameter. This hyperparameter assigns varying weights to instances of the minority class (defaulters) and the majority class (non-defaulters). As a result, the model will face penalties for incorrect predictions of defaulters and will have an improved ability to capture patterns within the minority class data samples."
   ]
  },
  {
   "cell_type": "code",
   "execution_count": 23,
   "metadata": {},
   "outputs": [],
   "source": [
    "n_folds = 5\n",
    "stratified_kfold = StratifiedKFold(n_splits=n_folds, shuffle=True, random_state=42)\n",
    "\n",
    "search_space = {\n",
    "    'n_estimators': Integer(100, 700),\n",
    "    'criterion': Categorical(['gini', 'entropy', 'log_loss']),\n",
    "    'max_depth': Integer(2, 16),\n",
    "    'min_samples_split': Integer(2, 50),\n",
    "    'min_samples_leaf': Integer(2, 25),\n",
    "    'bootstrap': Categorical([True, False]),\n",
    "    'class_weight': Categorical(['balanced', 'balanced_subsample', None]),\n",
    "    'max_features': Categorical(['sqrt', 'log2', None])\n",
    "}\n",
    "\n",
    "bayesian_search = BayesSearchCV(estimator=RandomForestClassifier(), search_spaces=search_space, cv=stratified_kfold, n_iter=50, scoring='roc_auc', return_train_score=True, random_state=42)"
   ]
  },
  {
   "cell_type": "code",
   "execution_count": 24,
   "metadata": {},
   "outputs": [
    {
     "data": {
      "text/html": [
       "<style>#sk-container-id-1 {color: black;}#sk-container-id-1 pre{padding: 0;}#sk-container-id-1 div.sk-toggleable {background-color: white;}#sk-container-id-1 label.sk-toggleable__label {cursor: pointer;display: block;width: 100%;margin-bottom: 0;padding: 0.3em;box-sizing: border-box;text-align: center;}#sk-container-id-1 label.sk-toggleable__label-arrow:before {content: \"▸\";float: left;margin-right: 0.25em;color: #696969;}#sk-container-id-1 label.sk-toggleable__label-arrow:hover:before {color: black;}#sk-container-id-1 div.sk-estimator:hover label.sk-toggleable__label-arrow:before {color: black;}#sk-container-id-1 div.sk-toggleable__content {max-height: 0;max-width: 0;overflow: hidden;text-align: left;background-color: #f0f8ff;}#sk-container-id-1 div.sk-toggleable__content pre {margin: 0.2em;color: black;border-radius: 0.25em;background-color: #f0f8ff;}#sk-container-id-1 input.sk-toggleable__control:checked~div.sk-toggleable__content {max-height: 200px;max-width: 100%;overflow: auto;}#sk-container-id-1 input.sk-toggleable__control:checked~label.sk-toggleable__label-arrow:before {content: \"▾\";}#sk-container-id-1 div.sk-estimator input.sk-toggleable__control:checked~label.sk-toggleable__label {background-color: #d4ebff;}#sk-container-id-1 div.sk-label input.sk-toggleable__control:checked~label.sk-toggleable__label {background-color: #d4ebff;}#sk-container-id-1 input.sk-hidden--visually {border: 0;clip: rect(1px 1px 1px 1px);clip: rect(1px, 1px, 1px, 1px);height: 1px;margin: -1px;overflow: hidden;padding: 0;position: absolute;width: 1px;}#sk-container-id-1 div.sk-estimator {font-family: monospace;background-color: #f0f8ff;border: 1px dotted black;border-radius: 0.25em;box-sizing: border-box;margin-bottom: 0.5em;}#sk-container-id-1 div.sk-estimator:hover {background-color: #d4ebff;}#sk-container-id-1 div.sk-parallel-item::after {content: \"\";width: 100%;border-bottom: 1px solid gray;flex-grow: 1;}#sk-container-id-1 div.sk-label:hover label.sk-toggleable__label {background-color: #d4ebff;}#sk-container-id-1 div.sk-serial::before {content: \"\";position: absolute;border-left: 1px solid gray;box-sizing: border-box;top: 0;bottom: 0;left: 50%;z-index: 0;}#sk-container-id-1 div.sk-serial {display: flex;flex-direction: column;align-items: center;background-color: white;padding-right: 0.2em;padding-left: 0.2em;position: relative;}#sk-container-id-1 div.sk-item {position: relative;z-index: 1;}#sk-container-id-1 div.sk-parallel {display: flex;align-items: stretch;justify-content: center;background-color: white;position: relative;}#sk-container-id-1 div.sk-item::before, #sk-container-id-1 div.sk-parallel-item::before {content: \"\";position: absolute;border-left: 1px solid gray;box-sizing: border-box;top: 0;bottom: 0;left: 50%;z-index: -1;}#sk-container-id-1 div.sk-parallel-item {display: flex;flex-direction: column;z-index: 1;position: relative;background-color: white;}#sk-container-id-1 div.sk-parallel-item:first-child::after {align-self: flex-end;width: 50%;}#sk-container-id-1 div.sk-parallel-item:last-child::after {align-self: flex-start;width: 50%;}#sk-container-id-1 div.sk-parallel-item:only-child::after {width: 0;}#sk-container-id-1 div.sk-dashed-wrapped {border: 1px dashed gray;margin: 0 0.4em 0.5em 0.4em;box-sizing: border-box;padding-bottom: 0.4em;background-color: white;}#sk-container-id-1 div.sk-label label {font-family: monospace;font-weight: bold;display: inline-block;line-height: 1.2em;}#sk-container-id-1 div.sk-label-container {text-align: center;}#sk-container-id-1 div.sk-container {/* jupyter's `normalize.less` sets `[hidden] { display: none; }` but bootstrap.min.css set `[hidden] { display: none !important; }` so we also need the `!important` here to be able to override the default hidden behavior on the sphinx rendered scikit-learn.org. See: https://github.com/scikit-learn/scikit-learn/issues/21755 */display: inline-block !important;position: relative;}#sk-container-id-1 div.sk-text-repr-fallback {display: none;}</style><div id=\"sk-container-id-1\" class=\"sk-top-container\"><div class=\"sk-text-repr-fallback\"><pre>BayesSearchCV(cv=StratifiedKFold(n_splits=5, random_state=42, shuffle=True),\n",
       "              estimator=RandomForestClassifier(), random_state=42,\n",
       "              return_train_score=True, scoring=&#x27;roc_auc&#x27;,\n",
       "              search_spaces={&#x27;bootstrap&#x27;: Categorical(categories=(True, False), prior=None),\n",
       "                             &#x27;class_weight&#x27;: Categorical(categories=(&#x27;balanced&#x27;, &#x27;balanced_subsample&#x27;, None), prior=None),\n",
       "                             &#x27;criterion&#x27;: Categor...\n",
       "                             &#x27;max_depth&#x27;: Integer(low=2, high=16, prior=&#x27;uniform&#x27;, transform=&#x27;normalize&#x27;),\n",
       "                             &#x27;max_features&#x27;: Categorical(categories=(&#x27;sqrt&#x27;, &#x27;log2&#x27;, None), prior=None),\n",
       "                             &#x27;min_samples_leaf&#x27;: Integer(low=2, high=25, prior=&#x27;uniform&#x27;, transform=&#x27;normalize&#x27;),\n",
       "                             &#x27;min_samples_split&#x27;: Integer(low=2, high=50, prior=&#x27;uniform&#x27;, transform=&#x27;normalize&#x27;),\n",
       "                             &#x27;n_estimators&#x27;: Integer(low=100, high=700, prior=&#x27;uniform&#x27;, transform=&#x27;normalize&#x27;)})</pre><b>In a Jupyter environment, please rerun this cell to show the HTML representation or trust the notebook. <br />On GitHub, the HTML representation is unable to render, please try loading this page with nbviewer.org.</b></div><div class=\"sk-container\" hidden><div class=\"sk-item sk-dashed-wrapped\"><div class=\"sk-label-container\"><div class=\"sk-label sk-toggleable\"><input class=\"sk-toggleable__control sk-hidden--visually\" id=\"sk-estimator-id-1\" type=\"checkbox\" ><label for=\"sk-estimator-id-1\" class=\"sk-toggleable__label sk-toggleable__label-arrow\">BayesSearchCV</label><div class=\"sk-toggleable__content\"><pre>BayesSearchCV(cv=StratifiedKFold(n_splits=5, random_state=42, shuffle=True),\n",
       "              estimator=RandomForestClassifier(), random_state=42,\n",
       "              return_train_score=True, scoring=&#x27;roc_auc&#x27;,\n",
       "              search_spaces={&#x27;bootstrap&#x27;: Categorical(categories=(True, False), prior=None),\n",
       "                             &#x27;class_weight&#x27;: Categorical(categories=(&#x27;balanced&#x27;, &#x27;balanced_subsample&#x27;, None), prior=None),\n",
       "                             &#x27;criterion&#x27;: Categor...\n",
       "                             &#x27;max_depth&#x27;: Integer(low=2, high=16, prior=&#x27;uniform&#x27;, transform=&#x27;normalize&#x27;),\n",
       "                             &#x27;max_features&#x27;: Categorical(categories=(&#x27;sqrt&#x27;, &#x27;log2&#x27;, None), prior=None),\n",
       "                             &#x27;min_samples_leaf&#x27;: Integer(low=2, high=25, prior=&#x27;uniform&#x27;, transform=&#x27;normalize&#x27;),\n",
       "                             &#x27;min_samples_split&#x27;: Integer(low=2, high=50, prior=&#x27;uniform&#x27;, transform=&#x27;normalize&#x27;),\n",
       "                             &#x27;n_estimators&#x27;: Integer(low=100, high=700, prior=&#x27;uniform&#x27;, transform=&#x27;normalize&#x27;)})</pre></div></div></div><div class=\"sk-parallel\"><div class=\"sk-parallel-item\"><div class=\"sk-item\"><div class=\"sk-label-container\"><div class=\"sk-label sk-toggleable\"><input class=\"sk-toggleable__control sk-hidden--visually\" id=\"sk-estimator-id-2\" type=\"checkbox\" ><label for=\"sk-estimator-id-2\" class=\"sk-toggleable__label sk-toggleable__label-arrow\">estimator: RandomForestClassifier</label><div class=\"sk-toggleable__content\"><pre>RandomForestClassifier()</pre></div></div></div><div class=\"sk-serial\"><div class=\"sk-item\"><div class=\"sk-estimator sk-toggleable\"><input class=\"sk-toggleable__control sk-hidden--visually\" id=\"sk-estimator-id-3\" type=\"checkbox\" ><label for=\"sk-estimator-id-3\" class=\"sk-toggleable__label sk-toggleable__label-arrow\">RandomForestClassifier</label><div class=\"sk-toggleable__content\"><pre>RandomForestClassifier()</pre></div></div></div></div></div></div></div></div></div></div>"
      ],
      "text/plain": [
       "BayesSearchCV(cv=StratifiedKFold(n_splits=5, random_state=42, shuffle=True),\n",
       "              estimator=RandomForestClassifier(), random_state=42,\n",
       "              return_train_score=True, scoring='roc_auc',\n",
       "              search_spaces={'bootstrap': Categorical(categories=(True, False), prior=None),\n",
       "                             'class_weight': Categorical(categories=('balanced', 'balanced_subsample', None), prior=None),\n",
       "                             'criterion': Categor...\n",
       "                             'max_depth': Integer(low=2, high=16, prior='uniform', transform='normalize'),\n",
       "                             'max_features': Categorical(categories=('sqrt', 'log2', None), prior=None),\n",
       "                             'min_samples_leaf': Integer(low=2, high=25, prior='uniform', transform='normalize'),\n",
       "                             'min_samples_split': Integer(low=2, high=50, prior='uniform', transform='normalize'),\n",
       "                             'n_estimators': Integer(low=100, high=700, prior='uniform', transform='normalize')})"
      ]
     },
     "execution_count": 24,
     "metadata": {},
     "output_type": "execute_result"
    }
   ],
   "source": [
    "bayesian_search.fit(X_train_prepared_onehot, y_train)"
   ]
  },
  {
   "cell_type": "code",
   "execution_count": 25,
   "metadata": {},
   "outputs": [
    {
     "name": "stdout",
     "output_type": "stream",
     "text": [
      "The best params fund for Random Forest are: \n"
     ]
    },
    {
     "data": {
      "text/plain": [
       "OrderedDict([('bootstrap', True),\n",
       "             ('class_weight', 'balanced_subsample'),\n",
       "             ('criterion', 'log_loss'),\n",
       "             ('max_depth', 8),\n",
       "             ('max_features', 'log2'),\n",
       "             ('min_samples_leaf', 7),\n",
       "             ('min_samples_split', 2),\n",
       "             ('n_estimators', 322)])"
      ]
     },
     "execution_count": 25,
     "metadata": {},
     "output_type": "execute_result"
    }
   ],
   "source": [
    "print(f'The best params fund for Random Forest are: ')\n",
    "bayesian_search.best_params_"
   ]
  },
  {
   "cell_type": "markdown",
   "metadata": {},
   "source": [
    "Let's take a look into some results obtained by the bayesian search cv, specially for important parameters like class_weight, criterion, max_depth, min_samples_leaf, min_samples_split and n_estimators."
   ]
  },
  {
   "cell_type": "code",
   "execution_count": 26,
   "metadata": {},
   "outputs": [
    {
     "data": {
      "text/html": [
       "<div>\n",
       "<style scoped>\n",
       "    .dataframe tbody tr th:only-of-type {\n",
       "        vertical-align: middle;\n",
       "    }\n",
       "\n",
       "    .dataframe tbody tr th {\n",
       "        vertical-align: top;\n",
       "    }\n",
       "\n",
       "    .dataframe thead th {\n",
       "        text-align: right;\n",
       "    }\n",
       "</style>\n",
       "<table border=\"1\" class=\"dataframe\">\n",
       "  <thead>\n",
       "    <tr style=\"text-align: right;\">\n",
       "      <th></th>\n",
       "      <th>rank_test_score</th>\n",
       "      <th>mean_test_score</th>\n",
       "      <th>mean_train_score</th>\n",
       "      <th>param_class_weight</th>\n",
       "      <th>param_criterion</th>\n",
       "      <th>param_max_depth</th>\n",
       "      <th>param_min_samples_leaf</th>\n",
       "      <th>param_min_samples_split</th>\n",
       "      <th>param_n_estimators</th>\n",
       "    </tr>\n",
       "  </thead>\n",
       "  <tbody>\n",
       "    <tr>\n",
       "      <th>8</th>\n",
       "      <td>1</td>\n",
       "      <td>0.763281</td>\n",
       "      <td>0.875818</td>\n",
       "      <td>balanced_subsample</td>\n",
       "      <td>log_loss</td>\n",
       "      <td>8</td>\n",
       "      <td>7</td>\n",
       "      <td>2</td>\n",
       "      <td>322</td>\n",
       "    </tr>\n",
       "    <tr>\n",
       "      <th>46</th>\n",
       "      <td>2</td>\n",
       "      <td>0.763207</td>\n",
       "      <td>0.824509</td>\n",
       "      <td>balanced</td>\n",
       "      <td>entropy</td>\n",
       "      <td>11</td>\n",
       "      <td>17</td>\n",
       "      <td>2</td>\n",
       "      <td>700</td>\n",
       "    </tr>\n",
       "    <tr>\n",
       "      <th>30</th>\n",
       "      <td>3</td>\n",
       "      <td>0.763095</td>\n",
       "      <td>0.806831</td>\n",
       "      <td>balanced</td>\n",
       "      <td>entropy</td>\n",
       "      <td>16</td>\n",
       "      <td>25</td>\n",
       "      <td>2</td>\n",
       "      <td>700</td>\n",
       "    </tr>\n",
       "    <tr>\n",
       "      <th>34</th>\n",
       "      <td>4</td>\n",
       "      <td>0.762984</td>\n",
       "      <td>0.807756</td>\n",
       "      <td>balanced_subsample</td>\n",
       "      <td>entropy</td>\n",
       "      <td>7</td>\n",
       "      <td>25</td>\n",
       "      <td>2</td>\n",
       "      <td>225</td>\n",
       "    </tr>\n",
       "    <tr>\n",
       "      <th>19</th>\n",
       "      <td>5</td>\n",
       "      <td>0.762946</td>\n",
       "      <td>0.809763</td>\n",
       "      <td>balanced_subsample</td>\n",
       "      <td>gini</td>\n",
       "      <td>10</td>\n",
       "      <td>22</td>\n",
       "      <td>3</td>\n",
       "      <td>538</td>\n",
       "    </tr>\n",
       "    <tr>\n",
       "      <th>6</th>\n",
       "      <td>6</td>\n",
       "      <td>0.762909</td>\n",
       "      <td>0.827269</td>\n",
       "      <td>None</td>\n",
       "      <td>gini</td>\n",
       "      <td>14</td>\n",
       "      <td>16</td>\n",
       "      <td>33</td>\n",
       "      <td>353</td>\n",
       "    </tr>\n",
       "    <tr>\n",
       "      <th>47</th>\n",
       "      <td>7</td>\n",
       "      <td>0.762835</td>\n",
       "      <td>0.805585</td>\n",
       "      <td>balanced</td>\n",
       "      <td>entropy</td>\n",
       "      <td>13</td>\n",
       "      <td>25</td>\n",
       "      <td>17</td>\n",
       "      <td>652</td>\n",
       "    </tr>\n",
       "    <tr>\n",
       "      <th>26</th>\n",
       "      <td>8</td>\n",
       "      <td>0.762760</td>\n",
       "      <td>0.850798</td>\n",
       "      <td>balanced</td>\n",
       "      <td>entropy</td>\n",
       "      <td>10</td>\n",
       "      <td>4</td>\n",
       "      <td>50</td>\n",
       "      <td>667</td>\n",
       "    </tr>\n",
       "    <tr>\n",
       "      <th>7</th>\n",
       "      <td>9</td>\n",
       "      <td>0.762202</td>\n",
       "      <td>0.875484</td>\n",
       "      <td>None</td>\n",
       "      <td>gini</td>\n",
       "      <td>14</td>\n",
       "      <td>3</td>\n",
       "      <td>29</td>\n",
       "      <td>115</td>\n",
       "    </tr>\n",
       "    <tr>\n",
       "      <th>48</th>\n",
       "      <td>10</td>\n",
       "      <td>0.762016</td>\n",
       "      <td>0.816255</td>\n",
       "      <td>balanced_subsample</td>\n",
       "      <td>entropy</td>\n",
       "      <td>11</td>\n",
       "      <td>20</td>\n",
       "      <td>2</td>\n",
       "      <td>700</td>\n",
       "    </tr>\n",
       "  </tbody>\n",
       "</table>\n",
       "</div>"
      ],
      "text/plain": [
       "    rank_test_score  mean_test_score  mean_train_score  param_class_weight   \n",
       "8                 1         0.763281          0.875818  balanced_subsample  \\\n",
       "46                2         0.763207          0.824509            balanced   \n",
       "30                3         0.763095          0.806831            balanced   \n",
       "34                4         0.762984          0.807756  balanced_subsample   \n",
       "19                5         0.762946          0.809763  balanced_subsample   \n",
       "6                 6         0.762909          0.827269                None   \n",
       "47                7         0.762835          0.805585            balanced   \n",
       "26                8         0.762760          0.850798            balanced   \n",
       "7                 9         0.762202          0.875484                None   \n",
       "48               10         0.762016          0.816255  balanced_subsample   \n",
       "\n",
       "   param_criterion param_max_depth param_min_samples_leaf   \n",
       "8         log_loss               8                      7  \\\n",
       "46         entropy              11                     17   \n",
       "30         entropy              16                     25   \n",
       "34         entropy               7                     25   \n",
       "19            gini              10                     22   \n",
       "6             gini              14                     16   \n",
       "47         entropy              13                     25   \n",
       "26         entropy              10                      4   \n",
       "7             gini              14                      3   \n",
       "48         entropy              11                     20   \n",
       "\n",
       "   param_min_samples_split param_n_estimators  \n",
       "8                        2                322  \n",
       "46                       2                700  \n",
       "30                       2                700  \n",
       "34                       2                225  \n",
       "19                       3                538  \n",
       "6                       33                353  \n",
       "47                      17                652  \n",
       "26                      50                667  \n",
       "7                       29                115  \n",
       "48                       2                700  "
      ]
     },
     "execution_count": 26,
     "metadata": {},
     "output_type": "execute_result"
    }
   ],
   "source": [
    "bayesian_search_results = pd.DataFrame(bayesian_search.cv_results_)\n",
    "bayesian_search_results = bayesian_search_results[['rank_test_score', 'mean_test_score', \n",
    "'mean_train_score', 'param_class_weight', \n",
    "'param_criterion', 'param_max_depth', \n",
    "'param_min_samples_leaf', 'param_min_samples_split', \n",
    "'param_n_estimators']]\n",
    "bayesian_search_results.sort_values(['rank_test_score']).head(10)\n"
   ]
  },
  {
   "cell_type": "markdown",
   "metadata": {},
   "source": [
    "I can see that some regularization was applied to the Random Forest model by examining parameters such as max_depth, min_samples_split, and min_samples_leaf values. Additionally, the training error and bias have increased (the training roc-auc score dropped from 1.0 to 0.875818), while the variance has decreased. Consequently, it was possible to improve the average validation roc-auc score from 0.734189 to 0.763281, which is good. As expected, due to overfitting, there was more room for performance improvement."
   ]
  },
  {
   "cell_type": "markdown",
   "metadata": {},
   "source": [
    "# 7. Final production model testing and evaluation\n",
    "- In this step, I intend to evaluate our final tuned model on test data (simulating production unseen data).\n",
    "- Once I am facing a credit scoring problem, ROC-AUC score is the metric of interest. We want the model to differentiate well between customers who will default on loans and those who will not.\n",
    "- A higher ROC-AUC score suggests that the model is better at ranking customers by their credit risk, which is essential for making informed lending decisions and managing the risk associated with loan portfolios."
   ]
  },
  {
   "cell_type": "markdown",
   "metadata": {},
   "source": [
    "Getting the final tuned Random Forest model."
   ]
  },
  {
   "cell_type": "code",
   "execution_count": 27,
   "metadata": {},
   "outputs": [],
   "source": [
    "final_rf_clf = bayesian_search.best_estimator_"
   ]
  },
  {
   "cell_type": "markdown",
   "metadata": {},
   "source": [
    "Using the preprocessor to transform the test predictor set. By applying just transform we avoid data leakage."
   ]
  },
  {
   "cell_type": "code",
   "execution_count": 28,
   "metadata": {},
   "outputs": [
    {
     "data": {
      "text/plain": [
       "(200, 25)"
      ]
     },
     "execution_count": 28,
     "metadata": {},
     "output_type": "execute_result"
    }
   ],
   "source": [
    "X_test_prepared = preprocessor_onehot.transform(X_test)\n",
    "X_test_prepared.shape"
   ]
  },
  {
   "cell_type": "markdown",
   "metadata": {},
   "source": [
    "Making predictions."
   ]
  },
  {
   "cell_type": "code",
   "execution_count": 29,
   "metadata": {},
   "outputs": [],
   "source": [
    "final_predictions = final_rf_clf.predict(X_test_prepared)"
   ]
  },
  {
   "cell_type": "markdown",
   "metadata": {},
   "source": [
    "Getting the default probabilities."
   ]
  },
  {
   "cell_type": "code",
   "execution_count": 30,
   "metadata": {},
   "outputs": [],
   "source": [
    "default_probas = final_rf_clf.predict_proba(X_test_prepared)[:, 1]"
   ]
  },
  {
   "cell_type": "markdown",
   "metadata": {},
   "source": [
    "### Evaluating the final tuned Random Forest model.\n"
   ]
  },
  {
   "cell_type": "code",
   "execution_count": 31,
   "metadata": {},
   "outputs": [
    {
     "name": "stdout",
     "output_type": "stream",
     "text": [
      "              precision    recall  f1-score   support\n",
      "\n",
      "           0       0.85      0.71      0.78       140\n",
      "           1       0.52      0.72      0.60        60\n",
      "\n",
      "    accuracy                           0.71       200\n",
      "   macro avg       0.69      0.72      0.69       200\n",
      "weighted avg       0.75      0.71      0.73       200\n",
      "\n"
     ]
    },
    {
     "data": {
      "image/png": "[encoded data removed]",
      "text/plain": [
       "<Figure size 640x480 with 2 Axes>"
      ]
     },
     "metadata": {},
     "output_type": "display_data"
    },
    {
     "data": {
      "image/png": "[encoded data removed]",
      "text/plain": [
       "<Figure size 500x300 with 1 Axes>"
      ]
     },
     "metadata": {},
     "output_type": "display_data"
    }
   ],
   "source": [
    "evaluate_classifier(y_test, final_predictions, default_probas)"
   ]
  },
  {
   "cell_type": "markdown",
   "metadata": {},
   "source": [
    "The model results are great!\n",
    "\n",
    "<b>ROC-AUC (0.78):</b> With a ROC-AUC score of 0.78, the model demonstrates a good ability to differentiate between defaulters and non-defaulters.<br>\n",
    "<b>Recall (0.72):</b> The model correctly identifies 72% of the defaulters. In practical terms, looking at the confusion matrix, it has accurately predicted 43 out of 60 defaulters.<br>\n",
    "<b>Precision (0.52):</b> Out of all customers predicted as default, 52% of them are actually defaulters. In practical terms, considering the confusion matrix, out of 83 customers predicted as default, 43 of them are indeed defaulters.<br>"
   ]
  },
  {
   "cell_type": "markdown",
   "metadata": {},
   "source": [
    "### Probabilities analysis"
   ]
  },
  {
   "cell_type": "markdown",
   "metadata": {},
   "source": [
    "I will take a look at some probability plots below in order to interpret the model results and assess how the scores are distributed by defaulters and non-defaulters."
   ]
  },
  {
   "cell_type": "code",
   "execution_count": 196,
   "metadata": {},
   "outputs": [
    {
     "data": {
      "image/png": "[encoded data removed]",
      "text/plain": [
       "<Figure size 640x480 with 1 Axes>"
      ]
     },
     "metadata": {},
     "output_type": "display_data"
    }
   ],
   "source": [
    "target_probability_distributions(default_probas, y_test, positive_label='Default', negative_label='Non-Default')"
   ]
  },
  {
   "cell_type": "markdown",
   "metadata": {},
   "source": [
    "The Default and Non-Default distributions show a separation regard to the probabilities. Particularly, Default distribution is concentrated over higher probabilities and Non-Default distribution is concentrated over lower probabilities. Good. It could be better, but we have a little amount of data. Ideally more data should be collected."
   ]
  },
  {
   "cell_type": "markdown",
   "metadata": {},
   "source": [
    "Plotting the default and non-default distributions by range."
   ]
  },
  {
   "cell_type": "code",
   "execution_count": 197,
   "metadata": {},
   "outputs": [
    {
     "data": {
      "image/png": "[encoded data removed]",
      "text/plain": [
       "<Figure size 1500x400 with 1 Axes>"
      ]
     },
     "metadata": {},
     "output_type": "display_data"
    }
   ],
   "source": [
    "test_scores = target_distributions_by_range(y_test, default_probas, positive_label='Default', negative_label='Non-Default')"
   ]
  },
  {
   "cell_type": "markdown",
   "metadata": {},
   "source": [
    "Non-defaulters are concentrated in lower ranges, and there is a clear trend: as the range increases, the number of defaulters also increases. This is a positive observation."
   ]
  },
  {
   "cell_type": "markdown",
   "metadata": {},
   "source": [
    "Plotting the default and non-default percentages by range."
   ]
  },
  {
   "cell_type": "code",
   "execution_count": 198,
   "metadata": {},
   "outputs": [
    {
     "data": {
      "image/png": "[encoded data removed]",
      "text/plain": [
       "<Figure size 1200x600 with 1 Axes>"
      ]
     },
     "metadata": {},
     "output_type": "display_data"
    }
   ],
   "source": [
    "range_percentages_df = target_percentages_by_range(y_test, default_probas, positive_label='Default', negative_label='Non-Default')"
   ]
  },
  {
   "cell_type": "markdown",
   "metadata": {},
   "source": [
    "Good! Clearly there is a trend, as the range increases, the percentage of defaulters also increases. This shows us that our scores are following some ordering, allocating larger proportions of defaulters to higher ranges."
   ]
  },
  {
   "cell_type": "markdown",
   "metadata": {},
   "source": [
    "Once the model reached good results and the ranges present an ordering, let's create the scores in a way that makes the probability ranges more interpretable and easier for the business to visualize the distribution and formulate action plans."
   ]
  },
  {
   "cell_type": "code",
   "execution_count": 199,
   "metadata": {},
   "outputs": [
    {
     "data": {
      "text/html": [
       "<div>\n",
       "<style scoped>\n",
       "    .dataframe tbody tr th:only-of-type {\n",
       "        vertical-align: middle;\n",
       "    }\n",
       "\n",
       "    .dataframe tbody tr th {\n",
       "        vertical-align: top;\n",
       "    }\n",
       "\n",
       "    .dataframe thead th {\n",
       "        text-align: right;\n",
       "    }\n",
       "</style>\n",
       "<table border=\"1\" class=\"dataframe\">\n",
       "  <thead>\n",
       "    <tr style=\"text-align: right;\">\n",
       "      <th>Default</th>\n",
       "      <th>Non-Default</th>\n",
       "      <th>Default</th>\n",
       "      <th>Score</th>\n",
       "    </tr>\n",
       "    <tr>\n",
       "      <th>Range</th>\n",
       "      <th></th>\n",
       "      <th></th>\n",
       "      <th></th>\n",
       "    </tr>\n",
       "  </thead>\n",
       "  <tbody>\n",
       "    <tr>\n",
       "      <th>0.0 to 0.1</th>\n",
       "      <td>0.000000</td>\n",
       "      <td>0.000000</td>\n",
       "      <td>10</td>\n",
       "    </tr>\n",
       "    <tr>\n",
       "      <th>0.1 to 0.2</th>\n",
       "      <td>0.923077</td>\n",
       "      <td>0.076923</td>\n",
       "      <td>9</td>\n",
       "    </tr>\n",
       "    <tr>\n",
       "      <th>0.2 to 0.3</th>\n",
       "      <td>0.911765</td>\n",
       "      <td>0.088235</td>\n",
       "      <td>8</td>\n",
       "    </tr>\n",
       "    <tr>\n",
       "      <th>0.3 to 0.4</th>\n",
       "      <td>0.882353</td>\n",
       "      <td>0.117647</td>\n",
       "      <td>7</td>\n",
       "    </tr>\n",
       "    <tr>\n",
       "      <th>0.4 to 0.5</th>\n",
       "      <td>0.652174</td>\n",
       "      <td>0.347826</td>\n",
       "      <td>6</td>\n",
       "    </tr>\n",
       "    <tr>\n",
       "      <th>0.5 to 0.6</th>\n",
       "      <td>0.516129</td>\n",
       "      <td>0.483871</td>\n",
       "      <td>5</td>\n",
       "    </tr>\n",
       "    <tr>\n",
       "      <th>0.6 to 0.7</th>\n",
       "      <td>0.628571</td>\n",
       "      <td>0.371429</td>\n",
       "      <td>4</td>\n",
       "    </tr>\n",
       "    <tr>\n",
       "      <th>0.7 to 0.8</th>\n",
       "      <td>0.133333</td>\n",
       "      <td>0.866667</td>\n",
       "      <td>3</td>\n",
       "    </tr>\n",
       "    <tr>\n",
       "      <th>0.8 to 0.9</th>\n",
       "      <td>0.000000</td>\n",
       "      <td>1.000000</td>\n",
       "      <td>2</td>\n",
       "    </tr>\n",
       "    <tr>\n",
       "      <th>0.9 to 1.0</th>\n",
       "      <td>0.000000</td>\n",
       "      <td>0.000000</td>\n",
       "      <td>1</td>\n",
       "    </tr>\n",
       "  </tbody>\n",
       "</table>\n",
       "</div>"
      ],
      "text/plain": [
       "Default     Non-Default   Default  Score\n",
       "Range                                   \n",
       "0.0 to 0.1     0.000000  0.000000     10\n",
       "0.1 to 0.2     0.923077  0.076923      9\n",
       "0.2 to 0.3     0.911765  0.088235      8\n",
       "0.3 to 0.4     0.882353  0.117647      7\n",
       "0.4 to 0.5     0.652174  0.347826      6\n",
       "0.5 to 0.6     0.516129  0.483871      5\n",
       "0.6 to 0.7     0.628571  0.371429      4\n",
       "0.7 to 0.8     0.133333  0.866667      3\n",
       "0.8 to 0.9     0.000000  1.000000      2\n",
       "0.9 to 1.0     0.000000  0.000000      1"
      ]
     },
     "execution_count": 199,
     "metadata": {},
     "output_type": "execute_result"
    }
   ],
   "source": [
    "range_percentages_df['Score'] = np.arange(10, 0, -1)\n",
    "range_percentages_df"
   ]
  },
  {
   "cell_type": "markdown",
   "metadata": {},
   "source": [
    "### Financial Result\n",
    "- I will estimate financial results provided by the model. To do this, since I don't have access to data necessary for precise measurements, such as the bank's charges on loans, I will perform an estimation using common loan fees. This will help us assess whether the project is worthwhile or not.\n",
    "- For the estimation, I will use a key metric for banks in the credit context, the Return on Investment (ROI).\n",
    "- The Return on Investment (ROI) is a key metric that measures the bank's profitability by comparing its net income to the investment cost. Higher ROI indicates more efficient profit generation.\n",
    "- ROI = (Expected revenue - Expected loss / Amount invested) * 100\n",
    "- I will compare the ROI (Return on Investment) of the loans lent before implementing the model with a potential loan that could be lent after implementing an action plan to avoid defaults. \n",
    "- This will be done only with the test set because it represents data the model has never seen. Measuring it on the training set would lead to an overestimation since the probabilities would be much more accurate than in a real production environment.\n",
    "- I will select a loan interest rate of 3.0% per month to perform the calculations with the credit amount taken by the customer for a duration in months.\n",
    "- The expected revenue will be: Credit amount lended for non-defaulters * Monthly charge on loan * Duration in months\n",
    "- The expected loss will be the total credit amount lended for defaulters.\n",
    "- The amount invested will be the total credit amount lended for both defaulters and non-defaulters.\n",
    "- Let's construct some dataframes below in order to make this analysis."
   ]
  },
  {
   "cell_type": "markdown",
   "metadata": {},
   "source": [
    "Obtaining a dataframe for data manipulation purposes."
   ]
  },
  {
   "cell_type": "code",
   "execution_count": 200,
   "metadata": {},
   "outputs": [
    {
     "data": {
      "text/html": [
       "<div>\n",
       "<style scoped>\n",
       "    .dataframe tbody tr th:only-of-type {\n",
       "        vertical-align: middle;\n",
       "    }\n",
       "\n",
       "    .dataframe tbody tr th {\n",
       "        vertical-align: top;\n",
       "    }\n",
       "\n",
       "    .dataframe thead th {\n",
       "        text-align: right;\n",
       "    }\n",
       "</style>\n",
       "<table border=\"1\" class=\"dataframe\">\n",
       "  <thead>\n",
       "    <tr style=\"text-align: right;\">\n",
       "      <th></th>\n",
       "      <th>Default</th>\n",
       "      <th>Credit Amount</th>\n",
       "      <th>Duration</th>\n",
       "    </tr>\n",
       "  </thead>\n",
       "  <tbody>\n",
       "    <tr>\n",
       "      <th>0</th>\n",
       "      <td>0</td>\n",
       "      <td>1913</td>\n",
       "      <td>18</td>\n",
       "    </tr>\n",
       "    <tr>\n",
       "      <th>1</th>\n",
       "      <td>0</td>\n",
       "      <td>1860</td>\n",
       "      <td>12</td>\n",
       "    </tr>\n",
       "    <tr>\n",
       "      <th>2</th>\n",
       "      <td>1</td>\n",
       "      <td>1024</td>\n",
       "      <td>24</td>\n",
       "    </tr>\n",
       "    <tr>\n",
       "      <th>3</th>\n",
       "      <td>0</td>\n",
       "      <td>3104</td>\n",
       "      <td>18</td>\n",
       "    </tr>\n",
       "    <tr>\n",
       "      <th>4</th>\n",
       "      <td>1</td>\n",
       "      <td>2520</td>\n",
       "      <td>27</td>\n",
       "    </tr>\n",
       "  </tbody>\n",
       "</table>\n",
       "</div>"
      ],
      "text/plain": [
       "   Default  Credit Amount  Duration\n",
       "0        0           1913        18\n",
       "1        0           1860        12\n",
       "2        1           1024        24\n",
       "3        0           3104        18\n",
       "4        1           2520        27"
      ]
     },
     "execution_count": 200,
     "metadata": {},
     "output_type": "execute_result"
    }
   ],
   "source": [
    "financial_result = pd.DataFrame({'Default': y_test})\n",
    "financial_result[['Credit Amount', 'Duration']] = X_test[['credit_amount', 'duration']]\n",
    "financial_result.reset_index(drop=True, inplace=True)\n",
    "financial_result.head()"
   ]
  },
  {
   "cell_type": "markdown",
   "metadata": {},
   "source": [
    "Checking the bank's credit lending behavior."
   ]
  },
  {
   "cell_type": "code",
   "execution_count": 201,
   "metadata": {},
   "outputs": [
    {
     "data": {
      "text/html": [
       "<div>\n",
       "<style scoped>\n",
       "    .dataframe tbody tr th:only-of-type {\n",
       "        vertical-align: middle;\n",
       "    }\n",
       "\n",
       "    .dataframe tbody tr th {\n",
       "        vertical-align: top;\n",
       "    }\n",
       "\n",
       "    .dataframe thead th {\n",
       "        text-align: right;\n",
       "    }\n",
       "</style>\n",
       "<table border=\"1\" class=\"dataframe\">\n",
       "  <thead>\n",
       "    <tr style=\"text-align: right;\">\n",
       "      <th></th>\n",
       "      <th>Default</th>\n",
       "      <th>Credit Amount</th>\n",
       "      <th>Percentage</th>\n",
       "    </tr>\n",
       "  </thead>\n",
       "  <tbody>\n",
       "    <tr>\n",
       "      <th>0</th>\n",
       "      <td>0</td>\n",
       "      <td>439584</td>\n",
       "      <td>0.610885</td>\n",
       "    </tr>\n",
       "    <tr>\n",
       "      <th>1</th>\n",
       "      <td>1</td>\n",
       "      <td>280001</td>\n",
       "      <td>0.389115</td>\n",
       "    </tr>\n",
       "  </tbody>\n",
       "</table>\n",
       "</div>"
      ],
      "text/plain": [
       "   Default  Credit Amount  Percentage\n",
       "0        0         439584    0.610885\n",
       "1        1         280001    0.389115"
      ]
     },
     "execution_count": 201,
     "metadata": {},
     "output_type": "execute_result"
    }
   ],
   "source": [
    "credit_lended = financial_result.groupby(['Default'], as_index=False)[['Credit Amount']].sum()\n",
    "credit_lended['Percentage'] = credit_lended['Credit Amount'] / credit_lended['Credit Amount'].sum()\n",
    "credit_lended"
   ]
  },
  {
   "cell_type": "markdown",
   "metadata": {},
   "source": [
    "The bank lent 439,584 to non-defaulters and 280,001 to defaulters. It is possible to see that a high percentage of the total credit amount was lent to defaulters, almost 40%. This reinforces the worthiness of our credit scoring project."
   ]
  },
  {
   "cell_type": "markdown",
   "metadata": {},
   "source": [
    "Obtaining the amount invested, expected revenue, expected loss and ROI before any action considering the model results."
   ]
  },
  {
   "cell_type": "code",
   "execution_count": 202,
   "metadata": {},
   "outputs": [
    {
     "name": "stdout",
     "output_type": "stream",
     "text": [
      "The total credit amount lent by the bank was $719,585.0\n",
      "The expected revenue is $348,715.0.\n",
      "The expected loss is $280,001.0.\n",
      "The bank's ROE before any action plan derived from the model results: 9.55%\n"
     ]
    }
   ],
   "source": [
    "amount_invested = financial_result['Credit Amount'].sum()\n",
    "expected_revenue = (financial_result.loc[financial_result['Default'] == 0, 'Credit Amount'] \n",
    "                    * 0.03 * \n",
    "                    financial_result.loc[financial_result['Default'] == 0, 'Duration']).sum()\n",
    "expected_loss = financial_result.loc[financial_result['Default'] == 1, 'Credit Amount'].sum()\n",
    "roi_before_action = (expected_revenue - expected_loss) / amount_invested * 100\n",
    "\n",
    "\n",
    "print(f'The total credit amount lent by the bank was ${amount_invested:,.1f}')\n",
    "print(f'The expected revenue is ${expected_revenue:,.1f}.')\n",
    "print(f'The expected loss is ${expected_loss:,.1f}.')\n",
    "print(f\"The bank's ROI before any action plan derived from the model results: {round(roi_before_action, 2)}%\")"
   ]
  },
  {
   "cell_type": "markdown",
   "metadata": {},
   "source": [
    "Now, let's imagine that, based on the scores and the default proportions within each range as indicated by the model results, the business decides to change its credit policy and only extend credit to customers with a score of six or higher, aiming to reduce the proportion of defaulters in its operations. What will happen to the ROI? Will it increase?"
   ]
  },
  {
   "cell_type": "markdown",
   "metadata": {},
   "source": [
    "Obtaining the Score for each customer."
   ]
  },
  {
   "cell_type": "code",
   "execution_count": 203,
   "metadata": {},
   "outputs": [
    {
     "data": {
      "text/html": [
       "<div>\n",
       "<style scoped>\n",
       "    .dataframe tbody tr th:only-of-type {\n",
       "        vertical-align: middle;\n",
       "    }\n",
       "\n",
       "    .dataframe tbody tr th {\n",
       "        vertical-align: top;\n",
       "    }\n",
       "\n",
       "    .dataframe thead th {\n",
       "        text-align: right;\n",
       "    }\n",
       "</style>\n",
       "<table border=\"1\" class=\"dataframe\">\n",
       "  <thead>\n",
       "    <tr style=\"text-align: right;\">\n",
       "      <th></th>\n",
       "      <th>Default</th>\n",
       "      <th>Credit Amount</th>\n",
       "      <th>Duration</th>\n",
       "      <th>Customer Score</th>\n",
       "    </tr>\n",
       "  </thead>\n",
       "  <tbody>\n",
       "    <tr>\n",
       "      <th>0</th>\n",
       "      <td>0</td>\n",
       "      <td>1913</td>\n",
       "      <td>18</td>\n",
       "      <td>7</td>\n",
       "    </tr>\n",
       "    <tr>\n",
       "      <th>4</th>\n",
       "      <td>1</td>\n",
       "      <td>2520</td>\n",
       "      <td>27</td>\n",
       "      <td>6</td>\n",
       "    </tr>\n",
       "    <tr>\n",
       "      <th>5</th>\n",
       "      <td>0</td>\n",
       "      <td>882</td>\n",
       "      <td>13</td>\n",
       "      <td>6</td>\n",
       "    </tr>\n",
       "    <tr>\n",
       "      <th>9</th>\n",
       "      <td>0</td>\n",
       "      <td>1322</td>\n",
       "      <td>11</td>\n",
       "      <td>7</td>\n",
       "    </tr>\n",
       "    <tr>\n",
       "      <th>10</th>\n",
       "      <td>0</td>\n",
       "      <td>2299</td>\n",
       "      <td>36</td>\n",
       "      <td>9</td>\n",
       "    </tr>\n",
       "  </tbody>\n",
       "</table>\n",
       "</div>"
      ],
      "text/plain": [
       "    Default  Credit Amount  Duration Customer Score\n",
       "0         0           1913        18              7\n",
       "4         1           2520        27              6\n",
       "5         0            882        13              6\n",
       "9         0           1322        11              7\n",
       "10        0           2299        36              9"
      ]
     },
     "execution_count": 203,
     "metadata": {},
     "output_type": "execute_result"
    }
   ],
   "source": [
    "def customer_score(x):\n",
    "    if x == '0.0 to 0.1':\n",
    "        return 10\n",
    "    elif x == '0.1 to 0.2':\n",
    "        return 9\n",
    "    elif x == '0.2 to 0.3':\n",
    "        return 8\n",
    "    elif x == '0.3 to 0.4':\n",
    "        return 7\n",
    "    elif x == '0.4 to 0.5':\n",
    "        return 6\n",
    "    elif x == '0.5 to 0.6':\n",
    "        return 5\n",
    "    elif x == '0.6 to 0.7':\n",
    "        return 4\n",
    "    elif x == '0.7 to 0.8':\n",
    "        return 3\n",
    "    elif x== '0.8 to 0.9':\n",
    "        return 2\n",
    "    elif x == '0.9 to 1.0':\n",
    "        return 1\n",
    "\n",
    "test_scores['Customer Score'] = test_scores['Range'].apply(customer_score)\n",
    "financial_result['Customer Score'] = test_scores['Customer Score']\n",
    "financial_plan = financial_result.loc[financial_result['Customer Score'] <= 6]\n",
    "financial_plan.head()"
   ]
  },
  {
   "cell_type": "markdown",
   "metadata": {},
   "source": [
    "Obtaining the amount invested, expected revenue, expected loss and ROI after changing the credit policy, lending credit for customers with at least a 6 score, given the model results."
   ]
  },
  {
   "cell_type": "code",
   "execution_count": 205,
   "metadata": {},
   "outputs": [
    {
     "name": "stdout",
     "output_type": "stream",
     "text": [
      "The total credit amount lent by the bank was $362,530.0\n",
      "The expected revenue is $232,150.7.\n",
      "The expected loss is $77,571.0.\n",
      "The bank's ROE after lending credit for customers with score six or higher given the model results: 42.64%\n"
     ]
    }
   ],
   "source": [
    "amount_invested_plan = financial_plan['Credit Amount'].sum()\n",
    "expected_revenue_plan = (financial_plan.loc[financial_plan['Default'] == 0, 'Credit Amount'] *\n",
    "                          0.03 * \n",
    "                          financial_plan.loc[financial_plan['Default'] == 0, 'Duration']).sum()\n",
    "expected_loss_plan= financial_plan.loc[financial_plan['Default'] == 1, 'Credit Amount'].sum()\n",
    "roi_after_action = (expected_revenue_plan - expected_loss_plan) / amount_invested_plan * 100\n",
    "\n",
    "print(f'The total credit amount lent by the bank was ${amount_invested_plan:,.1f}')\n",
    "print(f'The expected revenue is ${expected_revenue_plan:,.1f}.')\n",
    "print(f'The expected loss is ${expected_loss_plan:,.1f}.')\n",
    "print(f\"The bank's ROI after lending credit for customers with score six or higher given the model results: {round(roi_after_action, 2)}%\")"
   ]
  },
  {
   "cell_type": "markdown",
   "metadata": {},
   "source": [
    "Incredible! After changing its credit policy by examining the model results, the bank's ROI improved from 9.55% to 42.64%. This illustrates the power of machine learning and data science. Thus, my project is worthwhile!"
   ]
  },
  {
   "cell_type": "markdown",
   "metadata": {},
   "source": [
    "# Conclusions\n"
   ]
  },
  {
   "cell_type": "markdown",
   "metadata": {},
   "source": [
    "- In this project, I have built a Random Forest Classifier for credit scoring of the German bank's customers. The objective of the project was to construct a model capable of accurately predicting the probability of a customer defaulting on a loan, assigning a credit score to them (optimizing the ROC-AUC score), identifying the factors associated with credit risk in the form of business insights, and offering suggestions for the bank to minimize risk in its operations.\n",
    "- The business problem is now resolved. My model achieved an ROC-AUC score of 0.78 and demonstrated good precision, recall, and other metrics for defaulters. Additionally, during the EDA (Exploratory Data Analysis) phase, we successfully identified the primary credit risk factors and provided recommendations to the bank regarding risk patterns. The scores exhibited an ordered pattern, with a higher number of default instances as the default probability range increased. Consequently, the scoring process was successful.\n",
    "- In order to deal with the target imbalance, I used strategies like stratified hold-out and k-fold cross-validation, as well as the class_weight hyperparameter. These measures allowed the model to better learn the patterns in the minority target class and be evaluated correctly.\n",
    "- The project is worthwhile. I estimated financial results based on the model's predictions, considering a common monthly loan charge and calculating the expected revenue from non-defaulters, the expected loss from defaulters, and the total amount invested (total credit amount lent to all clients). After changing the bank's credit policy to approve loans only for customers with a credit score of 6 or higher, the Return on Investment (ROI) increased from 9.55% to 42.64%. Moreover, this estimation was made using only the test set because the probabilities in the training set would be much more accurate, which doesn't represent the real production environment performance.\n"
   ]
  }
 ],
 "metadata": {
  "kernelspec": {
   "display_name": "Python 3",
   "language": "python",
   "name": "python3"
  },
  "language_info": {
   "codemirror_mode": {
    "name": "ipython",
    "version": 3
   },
   "file_extension": ".py",
   "mimetype": "text/x-python",
   "name": "python",
   "nbconvert_exporter": "python",
   "pygments_lexer": "ipython3",
   "version": "3.11.4"
  },
  "orig_nbformat": 4
 },
 "nbformat": 4,
 "nbformat_minor": 2
}
